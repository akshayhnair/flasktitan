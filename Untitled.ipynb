{
 "cells": [
  {
   "cell_type": "code",
   "execution_count": 2,
   "id": "69e126a8",
   "metadata": {},
   "outputs": [
    {
     "ename": "ModuleNotFoundError",
     "evalue": "No module named 'cv2'",
     "output_type": "error",
     "traceback": [
      "\u001b[1;31m---------------------------------------------------------------------------\u001b[0m",
      "\u001b[1;31mModuleNotFoundError\u001b[0m                       Traceback (most recent call last)",
      "Cell \u001b[1;32mIn[2], line 1\u001b[0m\n\u001b[1;32m----> 1\u001b[0m \u001b[38;5;28;01mimport\u001b[39;00m \u001b[38;5;21;01mcv2\u001b[39;00m\n\u001b[0;32m      2\u001b[0m \u001b[38;5;28;01mfrom\u001b[39;00m \u001b[38;5;21;01mpyzbar\u001b[39;00m\u001b[38;5;21;01m.\u001b[39;00m\u001b[38;5;21;01mpyzbar\u001b[39;00m \u001b[38;5;28;01mimport\u001b[39;00m decode\n\u001b[0;32m      4\u001b[0m \u001b[38;5;66;03m# Initialize the webcam\u001b[39;00m\n",
      "\u001b[1;31mModuleNotFoundError\u001b[0m: No module named 'cv2'"
     ]
    }
   ],
   "source": [
    "import cv2\n",
    "from pyzbar.pyzbar import decode\n",
    "\n",
    "# Initialize the webcam\n",
    "cap = cv2.VideoCapture(0)  # Use the default camera (you may need to adjust this)\n",
    "\n",
    "while True:\n",
    "    # Read a frame from the webcam\n",
    "    ret, frame = cap.read()\n",
    "    \n",
    "\n",
    "    # Decode QR codes in the frame\n",
    "    decoded_objects = decode(frame)\n",
    "\n",
    "    for obj in decoded_objects:\n",
    "        qr_data = obj.data.decode('utf-8')\n",
    "        print(f\"QR Code Data: {qr_data}\")\n",
    "\n",
    "    # Display the frame with QR code boundaries (optional)\n",
    "    for obj in decoded_objects:\n",
    "        points = obj.polygon\n",
    "        if len(points) > 4:\n",
    "            hull = cv2.convexHull(np.array([point for point in points], dtype=np.float32))\n",
    "            cv2.polylines(frame, [hull], True, (0, 255, 0), 2)\n",
    "        else:\n",
    "            cv2.polylines(frame, [points], True, (0, 255, 0), 2)\n",
    "        x, y, w, h = obj.rect\n",
    "        cv2.rectangle(frame, (x, y), (x + w, y + h), (0, 0, 255), 2)\n",
    "\n",
    "    cv2.imshow('QR Code Scanner', frame)\n",
    "\n",
    "    # Break the loop if 'q' is pressed\n",
    "    if cv2.waitKey(1) & 0xFF == ord('q'):\n",
    "        break\n",
    "\n",
    "# Release the webcam and close OpenCV window\n",
    "cap.release()\n",
    "cv2.destroyAllWindows()\n"
   ]
  },
  {
   "cell_type": "code",
   "execution_count": 2,
   "id": "58c12320",
   "metadata": {},
   "outputs": [
    {
     "name": "stdout",
     "output_type": "stream",
     "text": [
      "Note: you may need to restart the kernel to use updated packages.\n"
     ]
    },
    {
     "name": "stderr",
     "output_type": "stream",
     "text": [
      "ERROR: Could not find a version that satisfies the requirement cv2 (from versions: none)\n",
      "ERROR: No matching distribution found for cv2\n"
     ]
    }
   ],
   "source": [
    "pip install cv2\n"
   ]
  },
  {
   "cell_type": "code",
   "execution_count": 3,
   "id": "58b4fe32",
   "metadata": {},
   "outputs": [
    {
     "name": "stdout",
     "output_type": "stream",
     "text": [
      "Collecting opencv-python\n",
      "  Downloading opencv_python-4.8.0.76-cp37-abi3-win_amd64.whl (38.1 MB)\n",
      "                                              0.0/38.1 MB ? eta -:--:--\n",
      "                                              0.2/38.1 MB 4.1 MB/s eta 0:00:10\n",
      "                                              0.4/38.1 MB 4.5 MB/s eta 0:00:09\n",
      "                                              0.7/38.1 MB 4.6 MB/s eta 0:00:09\n",
      "                                              0.9/38.1 MB 4.6 MB/s eta 0:00:09\n",
      "     -                                        1.1/38.1 MB 4.6 MB/s eta 0:00:08\n",
      "     -                                        1.3/38.1 MB 4.6 MB/s eta 0:00:09\n",
      "     -                                        1.5/38.1 MB 4.7 MB/s eta 0:00:08\n",
      "     -                                        1.7/38.1 MB 4.6 MB/s eta 0:00:08\n",
      "     --                                       2.0/38.1 MB 4.6 MB/s eta 0:00:08\n",
      "     --                                       2.2/38.1 MB 4.6 MB/s eta 0:00:08\n",
      "     --                                       2.4/38.1 MB 4.6 MB/s eta 0:00:08\n",
      "     --                                       2.6/38.1 MB 4.6 MB/s eta 0:00:08\n",
      "     --                                       2.8/38.1 MB 4.6 MB/s eta 0:00:08\n",
      "     ---                                      3.1/38.1 MB 4.7 MB/s eta 0:00:08\n",
      "     ---                                      3.3/38.1 MB 4.7 MB/s eta 0:00:08\n",
      "     ---                                      3.5/38.1 MB 4.7 MB/s eta 0:00:08\n",
      "     ---                                      3.7/38.1 MB 4.7 MB/s eta 0:00:08\n",
      "     ----                                     4.0/38.1 MB 4.7 MB/s eta 0:00:08\n",
      "     ----                                     4.2/38.1 MB 4.7 MB/s eta 0:00:08\n",
      "     ----                                     4.4/38.1 MB 4.7 MB/s eta 0:00:08\n",
      "     ----                                     4.6/38.1 MB 4.7 MB/s eta 0:00:08\n",
      "     -----                                    4.8/38.1 MB 4.7 MB/s eta 0:00:08\n",
      "     -----                                    5.1/38.1 MB 4.7 MB/s eta 0:00:08\n",
      "     -----                                    5.3/38.1 MB 4.7 MB/s eta 0:00:08\n",
      "     -----                                    5.5/38.1 MB 4.7 MB/s eta 0:00:07\n",
      "     -----                                    5.7/38.1 MB 4.7 MB/s eta 0:00:07\n",
      "     ------                                   5.9/38.1 MB 4.7 MB/s eta 0:00:07\n",
      "     ------                                   6.1/38.1 MB 4.7 MB/s eta 0:00:07\n",
      "     ------                                   6.4/38.1 MB 4.7 MB/s eta 0:00:07\n",
      "     ------                                   6.6/38.1 MB 4.7 MB/s eta 0:00:07\n",
      "     -------                                  6.8/38.1 MB 4.7 MB/s eta 0:00:07\n",
      "     -------                                  7.0/38.1 MB 4.7 MB/s eta 0:00:07\n",
      "     -------                                  7.2/38.1 MB 4.7 MB/s eta 0:00:07\n",
      "     -------                                  7.5/38.1 MB 4.7 MB/s eta 0:00:07\n",
      "     --------                                 7.7/38.1 MB 4.7 MB/s eta 0:00:07\n",
      "     --------                                 7.9/38.1 MB 4.7 MB/s eta 0:00:07\n",
      "     --------                                 8.1/38.1 MB 4.7 MB/s eta 0:00:07\n",
      "     --------                                 8.4/38.1 MB 4.7 MB/s eta 0:00:07\n",
      "     ---------                                8.6/38.1 MB 4.7 MB/s eta 0:00:07\n",
      "     ---------                                8.8/38.1 MB 4.7 MB/s eta 0:00:07\n",
      "     ---------                                9.0/38.1 MB 4.7 MB/s eta 0:00:07\n",
      "     ---------                                9.2/38.1 MB 4.7 MB/s eta 0:00:07\n",
      "     ---------                                9.5/38.1 MB 4.7 MB/s eta 0:00:07\n",
      "     ----------                               9.7/38.1 MB 4.7 MB/s eta 0:00:07\n",
      "     ----------                               9.9/38.1 MB 4.7 MB/s eta 0:00:06\n",
      "     ----------                               10.1/38.1 MB 4.7 MB/s eta 0:00:06\n",
      "     ----------                               10.4/38.1 MB 4.7 MB/s eta 0:00:06\n",
      "     -----------                              10.6/38.1 MB 4.7 MB/s eta 0:00:06\n",
      "     -----------                              10.8/38.1 MB 4.7 MB/s eta 0:00:06\n",
      "     -----------                              11.0/38.1 MB 4.7 MB/s eta 0:00:06\n",
      "     -----------                              11.2/38.1 MB 4.7 MB/s eta 0:00:06\n",
      "     ------------                             11.4/38.1 MB 4.7 MB/s eta 0:00:06\n",
      "     ------------                             11.7/38.1 MB 4.7 MB/s eta 0:00:06\n",
      "     ------------                             11.9/38.1 MB 4.7 MB/s eta 0:00:06\n",
      "     ------------                             12.1/38.1 MB 4.7 MB/s eta 0:00:06\n",
      "     ------------                             12.3/38.1 MB 4.7 MB/s eta 0:00:06\n",
      "     -------------                            12.5/38.1 MB 4.7 MB/s eta 0:00:06\n",
      "     -------------                            12.7/38.1 MB 4.7 MB/s eta 0:00:06\n",
      "     -------------                            13.0/38.1 MB 4.7 MB/s eta 0:00:06\n",
      "     -------------                            13.2/38.1 MB 4.7 MB/s eta 0:00:06\n",
      "     --------------                           13.4/38.1 MB 4.7 MB/s eta 0:00:06\n",
      "     --------------                           13.7/38.1 MB 4.7 MB/s eta 0:00:06\n",
      "     --------------                           13.9/38.1 MB 4.7 MB/s eta 0:00:06\n",
      "     --------------                           14.1/38.1 MB 4.7 MB/s eta 0:00:06\n",
      "     ---------------                          14.3/38.1 MB 4.7 MB/s eta 0:00:06\n",
      "     ---------------                          14.5/38.1 MB 4.7 MB/s eta 0:00:05\n",
      "     ---------------                          14.8/38.1 MB 4.7 MB/s eta 0:00:05\n",
      "     ---------------                          15.0/38.1 MB 4.7 MB/s eta 0:00:05\n",
      "     ---------------                          15.2/38.1 MB 4.7 MB/s eta 0:00:05\n",
      "     ----------------                         15.4/38.1 MB 4.7 MB/s eta 0:00:05\n",
      "     ----------------                         15.7/38.1 MB 4.7 MB/s eta 0:00:05\n",
      "     ----------------                         15.9/38.1 MB 4.7 MB/s eta 0:00:05\n",
      "     ----------------                         16.1/38.1 MB 4.7 MB/s eta 0:00:05\n",
      "     -----------------                        16.3/38.1 MB 4.7 MB/s eta 0:00:05\n",
      "     -----------------                        16.5/38.1 MB 4.7 MB/s eta 0:00:05\n",
      "     -----------------                        16.8/38.1 MB 4.7 MB/s eta 0:00:05\n",
      "     -----------------                        17.0/38.1 MB 4.7 MB/s eta 0:00:05\n",
      "     ------------------                       17.2/38.1 MB 4.7 MB/s eta 0:00:05\n",
      "     ------------------                       17.4/38.1 MB 4.7 MB/s eta 0:00:05\n",
      "     ------------------                       17.7/38.1 MB 4.7 MB/s eta 0:00:05\n",
      "     ------------------                       17.9/38.1 MB 4.7 MB/s eta 0:00:05\n",
      "     -------------------                      18.1/38.1 MB 4.8 MB/s eta 0:00:05\n",
      "     -------------------                      18.4/38.1 MB 4.7 MB/s eta 0:00:05\n",
      "     -------------------                      18.6/38.1 MB 4.7 MB/s eta 0:00:05\n",
      "     -------------------                      18.8/38.1 MB 4.7 MB/s eta 0:00:05\n",
      "     -------------------                      19.0/38.1 MB 4.7 MB/s eta 0:00:05\n",
      "     --------------------                     19.2/38.1 MB 4.7 MB/s eta 0:00:04\n",
      "     --------------------                     19.5/38.1 MB 4.7 MB/s eta 0:00:04\n",
      "     --------------------                     19.7/38.1 MB 4.7 MB/s eta 0:00:04\n",
      "     --------------------                     19.9/38.1 MB 4.7 MB/s eta 0:00:04\n",
      "     ---------------------                    20.1/38.1 MB 4.7 MB/s eta 0:00:04\n",
      "     ---------------------                    20.4/38.1 MB 4.8 MB/s eta 0:00:04\n",
      "     ---------------------                    20.6/38.1 MB 4.8 MB/s eta 0:00:04\n",
      "     ---------------------                    20.8/38.1 MB 4.8 MB/s eta 0:00:04\n",
      "     ----------------------                   21.0/38.1 MB 4.8 MB/s eta 0:00:04\n",
      "     ----------------------                   21.2/38.1 MB 4.8 MB/s eta 0:00:04\n",
      "     ----------------------                   21.5/38.1 MB 4.8 MB/s eta 0:00:04\n",
      "     ----------------------                   21.7/38.1 MB 4.8 MB/s eta 0:00:04\n",
      "     -----------------------                  21.9/38.1 MB 4.8 MB/s eta 0:00:04\n",
      "     -----------------------                  22.1/38.1 MB 4.8 MB/s eta 0:00:04\n",
      "     -----------------------                  22.4/38.1 MB 4.8 MB/s eta 0:00:04\n",
      "     -----------------------                  22.6/38.1 MB 4.8 MB/s eta 0:00:04\n",
      "     -----------------------                  22.8/38.1 MB 4.8 MB/s eta 0:00:04\n",
      "     ------------------------                 23.0/38.1 MB 4.8 MB/s eta 0:00:04\n",
      "     ------------------------                 23.2/38.1 MB 4.8 MB/s eta 0:00:04\n",
      "     ------------------------                 23.5/38.1 MB 4.8 MB/s eta 0:00:04\n",
      "     ------------------------                 23.7/38.1 MB 4.8 MB/s eta 0:00:04\n",
      "     -------------------------                23.9/38.1 MB 4.8 MB/s eta 0:00:03\n",
      "     -------------------------                24.1/38.1 MB 4.8 MB/s eta 0:00:03\n",
      "     -------------------------                24.4/38.1 MB 4.8 MB/s eta 0:00:03\n",
      "     -------------------------                24.6/38.1 MB 4.8 MB/s eta 0:00:03\n",
      "     --------------------------               24.8/38.1 MB 4.8 MB/s eta 0:00:03\n",
      "     --------------------------               25.0/38.1 MB 4.8 MB/s eta 0:00:03\n",
      "     --------------------------               25.2/38.1 MB 4.8 MB/s eta 0:00:03\n",
      "     --------------------------               25.5/38.1 MB 4.8 MB/s eta 0:00:03\n",
      "     --------------------------               25.7/38.1 MB 4.8 MB/s eta 0:00:03\n",
      "     ---------------------------              25.9/38.1 MB 4.8 MB/s eta 0:00:03\n",
      "     ---------------------------              26.1/38.1 MB 4.7 MB/s eta 0:00:03\n",
      "     ---------------------------              26.3/38.1 MB 4.8 MB/s eta 0:00:03\n",
      "     ---------------------------              26.5/38.1 MB 4.7 MB/s eta 0:00:03\n",
      "     ----------------------------             26.8/38.1 MB 4.8 MB/s eta 0:00:03\n",
      "     ----------------------------             27.0/38.1 MB 4.8 MB/s eta 0:00:03\n",
      "     ----------------------------             27.2/38.1 MB 4.8 MB/s eta 0:00:03\n",
      "     ----------------------------             27.4/38.1 MB 4.8 MB/s eta 0:00:03\n",
      "     -----------------------------            27.6/38.1 MB 4.8 MB/s eta 0:00:03\n",
      "     -----------------------------            27.9/38.1 MB 4.8 MB/s eta 0:00:03\n",
      "     -----------------------------            28.1/38.1 MB 4.8 MB/s eta 0:00:03\n",
      "     -----------------------------            28.3/38.1 MB 4.8 MB/s eta 0:00:03\n",
      "     -----------------------------            28.5/38.1 MB 4.8 MB/s eta 0:00:02\n",
      "     ------------------------------           28.8/38.1 MB 4.8 MB/s eta 0:00:02\n",
      "     ------------------------------           29.0/38.1 MB 4.8 MB/s eta 0:00:02\n",
      "     ------------------------------           29.2/38.1 MB 4.8 MB/s eta 0:00:02\n",
      "     ------------------------------           29.4/38.1 MB 4.8 MB/s eta 0:00:02\n",
      "     -------------------------------          29.6/38.1 MB 4.8 MB/s eta 0:00:02\n",
      "     -------------------------------          29.9/38.1 MB 4.8 MB/s eta 0:00:02\n",
      "     -------------------------------          30.1/38.1 MB 4.7 MB/s eta 0:00:02\n",
      "     -------------------------------          30.3/38.1 MB 4.7 MB/s eta 0:00:02\n",
      "     --------------------------------         30.5/38.1 MB 4.7 MB/s eta 0:00:02\n",
      "     --------------------------------         30.7/38.1 MB 4.7 MB/s eta 0:00:02\n",
      "     --------------------------------         30.9/38.1 MB 4.7 MB/s eta 0:00:02\n",
      "     --------------------------------         31.2/38.1 MB 4.7 MB/s eta 0:00:02\n",
      "     --------------------------------         31.4/38.1 MB 4.7 MB/s eta 0:00:02\n",
      "     ---------------------------------        31.6/38.1 MB 4.7 MB/s eta 0:00:02\n",
      "     ---------------------------------        31.8/38.1 MB 4.7 MB/s eta 0:00:02\n",
      "     ---------------------------------        32.1/38.1 MB 4.7 MB/s eta 0:00:02\n",
      "     ---------------------------------        32.3/38.1 MB 4.7 MB/s eta 0:00:02\n",
      "     ----------------------------------       32.5/38.1 MB 4.7 MB/s eta 0:00:02\n",
      "     ----------------------------------       32.7/38.1 MB 4.7 MB/s eta 0:00:02\n",
      "     ----------------------------------       32.9/38.1 MB 4.7 MB/s eta 0:00:02\n",
      "     ----------------------------------       33.2/38.1 MB 4.7 MB/s eta 0:00:02\n",
      "     -----------------------------------      33.4/38.1 MB 4.7 MB/s eta 0:00:01\n",
      "     -----------------------------------      33.6/38.1 MB 4.7 MB/s eta 0:00:01\n",
      "     -----------------------------------      33.8/38.1 MB 4.7 MB/s eta 0:00:01\n",
      "     -----------------------------------      34.0/38.1 MB 4.7 MB/s eta 0:00:01\n",
      "     ------------------------------------     34.3/38.1 MB 4.7 MB/s eta 0:00:01\n",
      "     ------------------------------------     34.5/38.1 MB 4.7 MB/s eta 0:00:01\n",
      "     ------------------------------------     34.7/38.1 MB 4.7 MB/s eta 0:00:01\n",
      "     ------------------------------------     34.9/38.1 MB 4.7 MB/s eta 0:00:01\n",
      "     ------------------------------------     35.1/38.1 MB 4.7 MB/s eta 0:00:01\n",
      "     -------------------------------------    35.4/38.1 MB 4.7 MB/s eta 0:00:01\n",
      "     -------------------------------------    35.6/38.1 MB 4.7 MB/s eta 0:00:01\n",
      "     -------------------------------------    35.8/38.1 MB 4.7 MB/s eta 0:00:01\n",
      "     -------------------------------------    36.0/38.1 MB 4.7 MB/s eta 0:00:01\n",
      "     --------------------------------------   36.2/38.1 MB 4.7 MB/s eta 0:00:01\n",
      "     --------------------------------------   36.5/38.1 MB 4.7 MB/s eta 0:00:01\n",
      "     --------------------------------------   36.7/38.1 MB 4.7 MB/s eta 0:00:01\n",
      "     --------------------------------------   36.9/38.1 MB 4.7 MB/s eta 0:00:01\n",
      "     ---------------------------------------  37.2/38.1 MB 4.7 MB/s eta 0:00:01\n",
      "     ---------------------------------------  37.4/38.1 MB 4.7 MB/s eta 0:00:01\n",
      "     ---------------------------------------  37.6/38.1 MB 4.7 MB/s eta 0:00:01\n",
      "     ---------------------------------------  37.8/38.1 MB 4.7 MB/s eta 0:00:01\n",
      "     ---------------------------------------  38.0/38.1 MB 4.7 MB/s eta 0:00:01\n",
      "     ---------------------------------------  38.1/38.1 MB 4.7 MB/s eta 0:00:01\n",
      "     ---------------------------------------  38.1/38.1 MB 4.7 MB/s eta 0:00:01\n",
      "     ---------------------------------------  38.1/38.1 MB 4.7 MB/s eta 0:00:01\n",
      "     ---------------------------------------  38.1/38.1 MB 4.7 MB/s eta 0:00:01\n",
      "     ---------------------------------------- 38.1/38.1 MB 4.3 MB/s eta 0:00:00\n",
      "Requirement already satisfied: numpy>=1.17.0 in c:\\users\\aksha\\anaconda3\\envs\\env12\\lib\\site-packages (from opencv-python) (1.24.3)\n",
      "Installing collected packages: opencv-python\n",
      "Successfully installed opencv-python-4.8.0.76\n",
      "Note: you may need to restart the kernel to use updated packages.\n"
     ]
    }
   ],
   "source": [
    "pip install opencv-python"
   ]
  },
  {
   "cell_type": "code",
   "execution_count": 1,
   "id": "34ad94b0",
   "metadata": {},
   "outputs": [
    {
     "ename": "ModuleNotFoundError",
     "evalue": "No module named 'pyzbar'",
     "output_type": "error",
     "traceback": [
      "\u001b[1;31m---------------------------------------------------------------------------\u001b[0m",
      "\u001b[1;31mModuleNotFoundError\u001b[0m                       Traceback (most recent call last)",
      "Cell \u001b[1;32mIn[1], line 2\u001b[0m\n\u001b[0;32m      1\u001b[0m \u001b[38;5;28;01mimport\u001b[39;00m \u001b[38;5;21;01mcv2\u001b[39;00m\n\u001b[1;32m----> 2\u001b[0m \u001b[38;5;28;01mfrom\u001b[39;00m \u001b[38;5;21;01mpyzbar\u001b[39;00m\u001b[38;5;21;01m.\u001b[39;00m\u001b[38;5;21;01mpyzbar\u001b[39;00m \u001b[38;5;28;01mimport\u001b[39;00m decode\n\u001b[0;32m      4\u001b[0m \u001b[38;5;66;03m# Initialize the webcam\u001b[39;00m\n\u001b[0;32m      5\u001b[0m cap \u001b[38;5;241m=\u001b[39m cv2\u001b[38;5;241m.\u001b[39mVideoCapture(\u001b[38;5;241m0\u001b[39m)  \u001b[38;5;66;03m# Use the default camera (you may need to adjust this)\u001b[39;00m\n",
      "\u001b[1;31mModuleNotFoundError\u001b[0m: No module named 'pyzbar'"
     ]
    }
   ],
   "source": [
    "import cv2\n",
    "from pyzbar.pyzbar import decode\n",
    "\n",
    "# Initialize the webcam\n",
    "cap = cv2.VideoCapture(0)  # Use the default camera (you may need to adjust this)\n",
    "\n",
    "while True:\n",
    "    # Read a frame from the webcam\n",
    "    ret, frame = cap.read()\n",
    "    \n",
    "\n",
    "    # Decode QR codes in the frame\n",
    "    decoded_objects = decode(frame)\n",
    "\n",
    "    for obj in decoded_objects:\n",
    "        qr_data = obj.data.decode('utf-8')\n",
    "        print(f\"QR Code Data: {qr_data}\")\n",
    "\n",
    "    # Display the frame with QR code boundaries (optional)\n",
    "    for obj in decoded_objects:\n",
    "        points = obj.polygon\n",
    "        if len(points) > 4:\n",
    "            hull = cv2.convexHull(np.array([point for point in points], dtype=np.float32))\n",
    "            cv2.polylines(frame, [hull], True, (0, 255, 0), 2)\n",
    "        else:\n",
    "            cv2.polylines(frame, [points], True, (0, 255, 0), 2)\n",
    "        x, y, w, h = obj.rect\n",
    "        cv2.rectangle(frame, (x, y), (x + w, y + h), (0, 0, 255), 2)\n",
    "\n",
    "    cv2.imshow('QR Code Scanner', frame)\n",
    "\n",
    "    # Break the loop if 'q' is pressed\n",
    "    if cv2.waitKey(1) & 0xFF == ord('q'):\n",
    "        break\n",
    "\n",
    "# Release the webcam and close OpenCV window\n",
    "cap.release()\n",
    "cv2.destroyAllWindows()\n"
   ]
  },
  {
   "cell_type": "code",
   "execution_count": 2,
   "id": "2c215f27",
   "metadata": {},
   "outputs": [
    {
     "name": "stdout",
     "output_type": "stream",
     "text": [
      "Collecting pyzbar\n",
      "  Downloading pyzbar-0.1.9-py2.py3-none-win_amd64.whl (817 kB)\n",
      "                                              0.0/817.4 kB ? eta -:--:--\n",
      "     ---------                              204.8/817.4 kB 6.3 MB/s eta 0:00:01\n",
      "     -------------------                    409.6/817.4 kB 5.1 MB/s eta 0:00:01\n",
      "     -----------------------------          624.6/817.4 kB 4.9 MB/s eta 0:00:01\n",
      "     -------------------------------------- 817.4/817.4 kB 4.7 MB/s eta 0:00:00\n",
      "Installing collected packages: pyzbar\n",
      "Successfully installed pyzbar-0.1.9\n",
      "Note: you may need to restart the kernel to use updated packages.\n"
     ]
    }
   ],
   "source": [
    "pip install pyzbar"
   ]
  },
  {
   "cell_type": "code",
   "execution_count": 1,
   "id": "5dcaa818",
   "metadata": {},
   "outputs": [
    {
     "ename": "FileNotFoundError",
     "evalue": "Could not find module 'C:\\Users\\aksha\\anaconda3\\envs\\env12\\lib\\site-packages\\pyzbar\\libzbar-64.dll' (or one of its dependencies). Try using the full path with constructor syntax.",
     "output_type": "error",
     "traceback": [
      "\u001b[1;31m---------------------------------------------------------------------------\u001b[0m",
      "\u001b[1;31mFileNotFoundError\u001b[0m                         Traceback (most recent call last)",
      "File \u001b[1;32m~\\anaconda3\\envs\\env12\\lib\\site-packages\\pyzbar\\zbar_library.py:58\u001b[0m, in \u001b[0;36mload\u001b[1;34m()\u001b[0m\n\u001b[0;32m     57\u001b[0m \u001b[38;5;28;01mtry\u001b[39;00m:\n\u001b[1;32m---> 58\u001b[0m     dependencies, libzbar \u001b[38;5;241m=\u001b[39m \u001b[43mload_objects\u001b[49m\u001b[43m(\u001b[49m\u001b[43mPath\u001b[49m\u001b[43m(\u001b[49m\u001b[38;5;124;43m'\u001b[39;49m\u001b[38;5;124;43m'\u001b[39;49m\u001b[43m)\u001b[49m\u001b[43m)\u001b[49m\n\u001b[0;32m     59\u001b[0m \u001b[38;5;28;01mexcept\u001b[39;00m \u001b[38;5;167;01mOSError\u001b[39;00m:\n",
      "File \u001b[1;32m~\\anaconda3\\envs\\env12\\lib\\site-packages\\pyzbar\\zbar_library.py:50\u001b[0m, in \u001b[0;36mload.<locals>.load_objects\u001b[1;34m(directory)\u001b[0m\n\u001b[0;32m     48\u001b[0m \u001b[38;5;28;01mdef\u001b[39;00m \u001b[38;5;21mload_objects\u001b[39m(directory):\n\u001b[0;32m     49\u001b[0m     \u001b[38;5;66;03m# Load dependencies before loading libzbar dll\u001b[39;00m\n\u001b[1;32m---> 50\u001b[0m     deps \u001b[38;5;241m=\u001b[39m [\n\u001b[0;32m     51\u001b[0m         cdll\u001b[38;5;241m.\u001b[39mLoadLibrary(\u001b[38;5;28mstr\u001b[39m(directory\u001b[38;5;241m.\u001b[39mjoinpath(dep)))\n\u001b[0;32m     52\u001b[0m         \u001b[38;5;28;01mfor\u001b[39;00m dep \u001b[38;5;129;01min\u001b[39;00m dependencies\n\u001b[0;32m     53\u001b[0m     ]\n\u001b[0;32m     54\u001b[0m     libzbar \u001b[38;5;241m=\u001b[39m cdll\u001b[38;5;241m.\u001b[39mLoadLibrary(\u001b[38;5;28mstr\u001b[39m(directory\u001b[38;5;241m.\u001b[39mjoinpath(fname)))\n",
      "File \u001b[1;32m~\\anaconda3\\envs\\env12\\lib\\site-packages\\pyzbar\\zbar_library.py:51\u001b[0m, in \u001b[0;36m<listcomp>\u001b[1;34m(.0)\u001b[0m\n\u001b[0;32m     48\u001b[0m \u001b[38;5;28;01mdef\u001b[39;00m \u001b[38;5;21mload_objects\u001b[39m(directory):\n\u001b[0;32m     49\u001b[0m     \u001b[38;5;66;03m# Load dependencies before loading libzbar dll\u001b[39;00m\n\u001b[0;32m     50\u001b[0m     deps \u001b[38;5;241m=\u001b[39m [\n\u001b[1;32m---> 51\u001b[0m         \u001b[43mcdll\u001b[49m\u001b[38;5;241;43m.\u001b[39;49m\u001b[43mLoadLibrary\u001b[49m\u001b[43m(\u001b[49m\u001b[38;5;28;43mstr\u001b[39;49m\u001b[43m(\u001b[49m\u001b[43mdirectory\u001b[49m\u001b[38;5;241;43m.\u001b[39;49m\u001b[43mjoinpath\u001b[49m\u001b[43m(\u001b[49m\u001b[43mdep\u001b[49m\u001b[43m)\u001b[49m\u001b[43m)\u001b[49m\u001b[43m)\u001b[49m\n\u001b[0;32m     52\u001b[0m         \u001b[38;5;28;01mfor\u001b[39;00m dep \u001b[38;5;129;01min\u001b[39;00m dependencies\n\u001b[0;32m     53\u001b[0m     ]\n\u001b[0;32m     54\u001b[0m     libzbar \u001b[38;5;241m=\u001b[39m cdll\u001b[38;5;241m.\u001b[39mLoadLibrary(\u001b[38;5;28mstr\u001b[39m(directory\u001b[38;5;241m.\u001b[39mjoinpath(fname)))\n",
      "File \u001b[1;32m~\\anaconda3\\envs\\env12\\lib\\ctypes\\__init__.py:452\u001b[0m, in \u001b[0;36mLibraryLoader.LoadLibrary\u001b[1;34m(self, name)\u001b[0m\n\u001b[0;32m    451\u001b[0m \u001b[38;5;28;01mdef\u001b[39;00m \u001b[38;5;21mLoadLibrary\u001b[39m(\u001b[38;5;28mself\u001b[39m, name):\n\u001b[1;32m--> 452\u001b[0m     \u001b[38;5;28;01mreturn\u001b[39;00m \u001b[38;5;28;43mself\u001b[39;49m\u001b[38;5;241;43m.\u001b[39;49m\u001b[43m_dlltype\u001b[49m\u001b[43m(\u001b[49m\u001b[43mname\u001b[49m\u001b[43m)\u001b[49m\n",
      "File \u001b[1;32m~\\anaconda3\\envs\\env12\\lib\\ctypes\\__init__.py:374\u001b[0m, in \u001b[0;36mCDLL.__init__\u001b[1;34m(self, name, mode, handle, use_errno, use_last_error, winmode)\u001b[0m\n\u001b[0;32m    373\u001b[0m \u001b[38;5;28;01mif\u001b[39;00m handle \u001b[38;5;129;01mis\u001b[39;00m \u001b[38;5;28;01mNone\u001b[39;00m:\n\u001b[1;32m--> 374\u001b[0m     \u001b[38;5;28mself\u001b[39m\u001b[38;5;241m.\u001b[39m_handle \u001b[38;5;241m=\u001b[39m \u001b[43m_dlopen\u001b[49m\u001b[43m(\u001b[49m\u001b[38;5;28;43mself\u001b[39;49m\u001b[38;5;241;43m.\u001b[39;49m\u001b[43m_name\u001b[49m\u001b[43m,\u001b[49m\u001b[43m \u001b[49m\u001b[43mmode\u001b[49m\u001b[43m)\u001b[49m\n\u001b[0;32m    375\u001b[0m \u001b[38;5;28;01melse\u001b[39;00m:\n",
      "\u001b[1;31mFileNotFoundError\u001b[0m: Could not find module 'libiconv.dll' (or one of its dependencies). Try using the full path with constructor syntax.",
      "\nDuring handling of the above exception, another exception occurred:\n",
      "\u001b[1;31mFileNotFoundError\u001b[0m                         Traceback (most recent call last)",
      "Cell \u001b[1;32mIn[1], line 2\u001b[0m\n\u001b[0;32m      1\u001b[0m \u001b[38;5;28;01mimport\u001b[39;00m \u001b[38;5;21;01mcv2\u001b[39;00m\n\u001b[1;32m----> 2\u001b[0m \u001b[38;5;28;01mfrom\u001b[39;00m \u001b[38;5;21;01mpyzbar\u001b[39;00m\u001b[38;5;21;01m.\u001b[39;00m\u001b[38;5;21;01mpyzbar\u001b[39;00m \u001b[38;5;28;01mimport\u001b[39;00m decode\n\u001b[0;32m      4\u001b[0m \u001b[38;5;66;03m# Initialize the webcam\u001b[39;00m\n\u001b[0;32m      5\u001b[0m cap \u001b[38;5;241m=\u001b[39m cv2\u001b[38;5;241m.\u001b[39mVideoCapture(\u001b[38;5;241m0\u001b[39m)  \u001b[38;5;66;03m# Use the default camera (you may need to adjust this)\u001b[39;00m\n",
      "File \u001b[1;32m~\\anaconda3\\envs\\env12\\lib\\site-packages\\pyzbar\\pyzbar.py:7\u001b[0m\n\u001b[0;32m      5\u001b[0m \u001b[38;5;28;01mfrom\u001b[39;00m \u001b[38;5;21;01m.\u001b[39;00m\u001b[38;5;21;01mlocations\u001b[39;00m \u001b[38;5;28;01mimport\u001b[39;00m bounding_box, convex_hull, Point, Rect\n\u001b[0;32m      6\u001b[0m \u001b[38;5;28;01mfrom\u001b[39;00m \u001b[38;5;21;01m.\u001b[39;00m\u001b[38;5;21;01mpyzbar_error\u001b[39;00m \u001b[38;5;28;01mimport\u001b[39;00m PyZbarError\n\u001b[1;32m----> 7\u001b[0m \u001b[38;5;28;01mfrom\u001b[39;00m \u001b[38;5;21;01m.\u001b[39;00m\u001b[38;5;21;01mwrapper\u001b[39;00m \u001b[38;5;28;01mimport\u001b[39;00m (\n\u001b[0;32m      8\u001b[0m     zbar_image_scanner_set_config,\n\u001b[0;32m      9\u001b[0m     zbar_image_scanner_create, zbar_image_scanner_destroy,\n\u001b[0;32m     10\u001b[0m     zbar_image_create, zbar_image_destroy, zbar_image_set_format,\n\u001b[0;32m     11\u001b[0m     zbar_image_set_size, zbar_image_set_data, zbar_scan_image,\n\u001b[0;32m     12\u001b[0m     zbar_image_first_symbol, zbar_symbol_get_data_length,\n\u001b[0;32m     13\u001b[0m     zbar_symbol_get_data, zbar_symbol_get_orientation,\n\u001b[0;32m     14\u001b[0m     zbar_symbol_get_loc_size, zbar_symbol_get_loc_x, zbar_symbol_get_loc_y,\n\u001b[0;32m     15\u001b[0m     zbar_symbol_get_quality, zbar_symbol_next, ZBarConfig, ZBarOrientation,\n\u001b[0;32m     16\u001b[0m     ZBarSymbol, EXTERNAL_DEPENDENCIES,\n\u001b[0;32m     17\u001b[0m )\n\u001b[0;32m     19\u001b[0m __all__ \u001b[38;5;241m=\u001b[39m [\n\u001b[0;32m     20\u001b[0m     \u001b[38;5;124m'\u001b[39m\u001b[38;5;124mdecode\u001b[39m\u001b[38;5;124m'\u001b[39m, \u001b[38;5;124m'\u001b[39m\u001b[38;5;124mPoint\u001b[39m\u001b[38;5;124m'\u001b[39m, \u001b[38;5;124m'\u001b[39m\u001b[38;5;124mRect\u001b[39m\u001b[38;5;124m'\u001b[39m, \u001b[38;5;124m'\u001b[39m\u001b[38;5;124mDecoded\u001b[39m\u001b[38;5;124m'\u001b[39m, \u001b[38;5;124m'\u001b[39m\u001b[38;5;124mZBarSymbol\u001b[39m\u001b[38;5;124m'\u001b[39m, \u001b[38;5;124m'\u001b[39m\u001b[38;5;124mEXTERNAL_DEPENDENCIES\u001b[39m\u001b[38;5;124m'\u001b[39m, \u001b[38;5;124m'\u001b[39m\u001b[38;5;124mORIENTATION_AVAILABLE\u001b[39m\u001b[38;5;124m'\u001b[39m\n\u001b[0;32m     21\u001b[0m ]\n\u001b[0;32m     24\u001b[0m ORIENTATION_AVAILABLE \u001b[38;5;241m=\u001b[39m zbar_symbol_get_orientation \u001b[38;5;129;01mis\u001b[39;00m \u001b[38;5;129;01mnot\u001b[39;00m \u001b[38;5;28;01mNone\u001b[39;00m\n",
      "File \u001b[1;32m~\\anaconda3\\envs\\env12\\lib\\site-packages\\pyzbar\\wrapper.py:151\u001b[0m\n\u001b[0;32m    147\u001b[0m     prototype \u001b[38;5;241m=\u001b[39m CFUNCTYPE(restype, \u001b[38;5;241m*\u001b[39margs)\n\u001b[0;32m    148\u001b[0m     \u001b[38;5;28;01mreturn\u001b[39;00m prototype((fname, load_libzbar()))\n\u001b[1;32m--> 151\u001b[0m zbar_version \u001b[38;5;241m=\u001b[39m \u001b[43mzbar_function\u001b[49m\u001b[43m(\u001b[49m\n\u001b[0;32m    152\u001b[0m \u001b[43m    \u001b[49m\u001b[38;5;124;43m'\u001b[39;49m\u001b[38;5;124;43mzbar_version\u001b[39;49m\u001b[38;5;124;43m'\u001b[39;49m\u001b[43m,\u001b[49m\n\u001b[0;32m    153\u001b[0m \u001b[43m    \u001b[49m\u001b[43mc_int\u001b[49m\u001b[43m,\u001b[49m\n\u001b[0;32m    154\u001b[0m \u001b[43m    \u001b[49m\u001b[43mc_uint_p\u001b[49m\u001b[43m,\u001b[49m\u001b[43m    \u001b[49m\u001b[38;5;66;43;03m# major,\u001b[39;49;00m\n\u001b[0;32m    155\u001b[0m \u001b[43m    \u001b[49m\u001b[43mc_uint_p\u001b[49m\u001b[43m,\u001b[49m\u001b[43m    \u001b[49m\u001b[38;5;66;43;03m# minor\u001b[39;49;00m\n\u001b[0;32m    156\u001b[0m \u001b[43m)\u001b[49m\n\u001b[0;32m    158\u001b[0m zbar_set_verbosity \u001b[38;5;241m=\u001b[39m zbar_function(\n\u001b[0;32m    159\u001b[0m     \u001b[38;5;124m'\u001b[39m\u001b[38;5;124mzbar_set_verbosity\u001b[39m\u001b[38;5;124m'\u001b[39m,\n\u001b[0;32m    160\u001b[0m     \u001b[38;5;28;01mNone\u001b[39;00m,\n\u001b[0;32m    161\u001b[0m     c_int\n\u001b[0;32m    162\u001b[0m )\n\u001b[0;32m    164\u001b[0m zbar_image_scanner_create \u001b[38;5;241m=\u001b[39m zbar_function(\n\u001b[0;32m    165\u001b[0m     \u001b[38;5;124m'\u001b[39m\u001b[38;5;124mzbar_image_scanner_create\u001b[39m\u001b[38;5;124m'\u001b[39m,\n\u001b[0;32m    166\u001b[0m     POINTER(zbar_image_scanner)\n\u001b[0;32m    167\u001b[0m )\n",
      "File \u001b[1;32m~\\anaconda3\\envs\\env12\\lib\\site-packages\\pyzbar\\wrapper.py:148\u001b[0m, in \u001b[0;36mzbar_function\u001b[1;34m(fname, restype, *args)\u001b[0m\n\u001b[0;32m    136\u001b[0m \u001b[38;5;250m\u001b[39m\u001b[38;5;124;03m\"\"\"Returns a foreign function exported by `zbar`.\u001b[39;00m\n\u001b[0;32m    137\u001b[0m \n\u001b[0;32m    138\u001b[0m \u001b[38;5;124;03mArgs:\u001b[39;00m\n\u001b[1;32m   (...)\u001b[0m\n\u001b[0;32m    145\u001b[0m \u001b[38;5;124;03m    cddl.CFunctionType: A wrapper around the function.\u001b[39;00m\n\u001b[0;32m    146\u001b[0m \u001b[38;5;124;03m\"\"\"\u001b[39;00m\n\u001b[0;32m    147\u001b[0m prototype \u001b[38;5;241m=\u001b[39m CFUNCTYPE(restype, \u001b[38;5;241m*\u001b[39margs)\n\u001b[1;32m--> 148\u001b[0m \u001b[38;5;28;01mreturn\u001b[39;00m prototype((fname, \u001b[43mload_libzbar\u001b[49m\u001b[43m(\u001b[49m\u001b[43m)\u001b[49m))\n",
      "File \u001b[1;32m~\\anaconda3\\envs\\env12\\lib\\site-packages\\pyzbar\\wrapper.py:127\u001b[0m, in \u001b[0;36mload_libzbar\u001b[1;34m()\u001b[0m\n\u001b[0;32m    125\u001b[0m \u001b[38;5;28;01mglobal\u001b[39;00m EXTERNAL_DEPENDENCIES\n\u001b[0;32m    126\u001b[0m \u001b[38;5;28;01mif\u001b[39;00m \u001b[38;5;129;01mnot\u001b[39;00m LIBZBAR:\n\u001b[1;32m--> 127\u001b[0m     libzbar, dependencies \u001b[38;5;241m=\u001b[39m \u001b[43mzbar_library\u001b[49m\u001b[38;5;241;43m.\u001b[39;49m\u001b[43mload\u001b[49m\u001b[43m(\u001b[49m\u001b[43m)\u001b[49m\n\u001b[0;32m    128\u001b[0m     LIBZBAR \u001b[38;5;241m=\u001b[39m libzbar\n\u001b[0;32m    129\u001b[0m     EXTERNAL_DEPENDENCIES \u001b[38;5;241m=\u001b[39m [LIBZBAR] \u001b[38;5;241m+\u001b[39m dependencies\n",
      "File \u001b[1;32m~\\anaconda3\\envs\\env12\\lib\\site-packages\\pyzbar\\zbar_library.py:60\u001b[0m, in \u001b[0;36mload\u001b[1;34m()\u001b[0m\n\u001b[0;32m     58\u001b[0m         dependencies, libzbar \u001b[38;5;241m=\u001b[39m load_objects(Path(\u001b[38;5;124m'\u001b[39m\u001b[38;5;124m'\u001b[39m))\n\u001b[0;32m     59\u001b[0m     \u001b[38;5;28;01mexcept\u001b[39;00m \u001b[38;5;167;01mOSError\u001b[39;00m:\n\u001b[1;32m---> 60\u001b[0m         dependencies, libzbar \u001b[38;5;241m=\u001b[39m \u001b[43mload_objects\u001b[49m\u001b[43m(\u001b[49m\u001b[43mPath\u001b[49m\u001b[43m(\u001b[49m\u001b[38;5;18;43m__file__\u001b[39;49m\u001b[43m)\u001b[49m\u001b[38;5;241;43m.\u001b[39;49m\u001b[43mparent\u001b[49m\u001b[43m)\u001b[49m\n\u001b[0;32m     61\u001b[0m \u001b[38;5;28;01melse\u001b[39;00m:\n\u001b[0;32m     62\u001b[0m     \u001b[38;5;66;03m# Assume a shared library on the path\u001b[39;00m\n\u001b[0;32m     63\u001b[0m     path \u001b[38;5;241m=\u001b[39m find_library(\u001b[38;5;124m'\u001b[39m\u001b[38;5;124mzbar\u001b[39m\u001b[38;5;124m'\u001b[39m)\n",
      "File \u001b[1;32m~\\anaconda3\\envs\\env12\\lib\\site-packages\\pyzbar\\zbar_library.py:54\u001b[0m, in \u001b[0;36mload.<locals>.load_objects\u001b[1;34m(directory)\u001b[0m\n\u001b[0;32m     48\u001b[0m \u001b[38;5;28;01mdef\u001b[39;00m \u001b[38;5;21mload_objects\u001b[39m(directory):\n\u001b[0;32m     49\u001b[0m     \u001b[38;5;66;03m# Load dependencies before loading libzbar dll\u001b[39;00m\n\u001b[0;32m     50\u001b[0m     deps \u001b[38;5;241m=\u001b[39m [\n\u001b[0;32m     51\u001b[0m         cdll\u001b[38;5;241m.\u001b[39mLoadLibrary(\u001b[38;5;28mstr\u001b[39m(directory\u001b[38;5;241m.\u001b[39mjoinpath(dep)))\n\u001b[0;32m     52\u001b[0m         \u001b[38;5;28;01mfor\u001b[39;00m dep \u001b[38;5;129;01min\u001b[39;00m dependencies\n\u001b[0;32m     53\u001b[0m     ]\n\u001b[1;32m---> 54\u001b[0m     libzbar \u001b[38;5;241m=\u001b[39m \u001b[43mcdll\u001b[49m\u001b[38;5;241;43m.\u001b[39;49m\u001b[43mLoadLibrary\u001b[49m\u001b[43m(\u001b[49m\u001b[38;5;28;43mstr\u001b[39;49m\u001b[43m(\u001b[49m\u001b[43mdirectory\u001b[49m\u001b[38;5;241;43m.\u001b[39;49m\u001b[43mjoinpath\u001b[49m\u001b[43m(\u001b[49m\u001b[43mfname\u001b[49m\u001b[43m)\u001b[49m\u001b[43m)\u001b[49m\u001b[43m)\u001b[49m\n\u001b[0;32m     55\u001b[0m     \u001b[38;5;28;01mreturn\u001b[39;00m deps, libzbar\n",
      "File \u001b[1;32m~\\anaconda3\\envs\\env12\\lib\\ctypes\\__init__.py:452\u001b[0m, in \u001b[0;36mLibraryLoader.LoadLibrary\u001b[1;34m(self, name)\u001b[0m\n\u001b[0;32m    451\u001b[0m \u001b[38;5;28;01mdef\u001b[39;00m \u001b[38;5;21mLoadLibrary\u001b[39m(\u001b[38;5;28mself\u001b[39m, name):\n\u001b[1;32m--> 452\u001b[0m     \u001b[38;5;28;01mreturn\u001b[39;00m \u001b[38;5;28;43mself\u001b[39;49m\u001b[38;5;241;43m.\u001b[39;49m\u001b[43m_dlltype\u001b[49m\u001b[43m(\u001b[49m\u001b[43mname\u001b[49m\u001b[43m)\u001b[49m\n",
      "File \u001b[1;32m~\\anaconda3\\envs\\env12\\lib\\ctypes\\__init__.py:374\u001b[0m, in \u001b[0;36mCDLL.__init__\u001b[1;34m(self, name, mode, handle, use_errno, use_last_error, winmode)\u001b[0m\n\u001b[0;32m    371\u001b[0m \u001b[38;5;28mself\u001b[39m\u001b[38;5;241m.\u001b[39m_FuncPtr \u001b[38;5;241m=\u001b[39m _FuncPtr\n\u001b[0;32m    373\u001b[0m \u001b[38;5;28;01mif\u001b[39;00m handle \u001b[38;5;129;01mis\u001b[39;00m \u001b[38;5;28;01mNone\u001b[39;00m:\n\u001b[1;32m--> 374\u001b[0m     \u001b[38;5;28mself\u001b[39m\u001b[38;5;241m.\u001b[39m_handle \u001b[38;5;241m=\u001b[39m \u001b[43m_dlopen\u001b[49m\u001b[43m(\u001b[49m\u001b[38;5;28;43mself\u001b[39;49m\u001b[38;5;241;43m.\u001b[39;49m\u001b[43m_name\u001b[49m\u001b[43m,\u001b[49m\u001b[43m \u001b[49m\u001b[43mmode\u001b[49m\u001b[43m)\u001b[49m\n\u001b[0;32m    375\u001b[0m \u001b[38;5;28;01melse\u001b[39;00m:\n\u001b[0;32m    376\u001b[0m     \u001b[38;5;28mself\u001b[39m\u001b[38;5;241m.\u001b[39m_handle \u001b[38;5;241m=\u001b[39m handle\n",
      "\u001b[1;31mFileNotFoundError\u001b[0m: Could not find module 'C:\\Users\\aksha\\anaconda3\\envs\\env12\\lib\\site-packages\\pyzbar\\libzbar-64.dll' (or one of its dependencies). Try using the full path with constructor syntax."
     ]
    }
   ],
   "source": [
    "import cv2\n",
    "from pyzbar.pyzbar import decode\n",
    "\n",
    "# Initialize the webcam\n",
    "cap = cv2.VideoCapture(0)  # Use the default camera (you may need to adjust this)\n",
    "\n",
    "while True:\n",
    "    # Read a frame from the webcam\n",
    "    ret, frame = cap.read()\n",
    "    \n",
    "\n",
    "    # Decode QR codes in the frame\n",
    "    decoded_objects = decode(frame)\n",
    "\n",
    "    for obj in decoded_objects:\n",
    "        qr_data = obj.data.decode('utf-8')\n",
    "        print(f\"QR Code Data: {qr_data}\")\n",
    "\n",
    "    # Display the frame with QR code boundaries (optional)\n",
    "    for obj in decoded_objects:\n",
    "        points = obj.polygon\n",
    "        if len(points) > 4:\n",
    "            hull = cv2.convexHull(np.array([point for point in points], dtype=np.float32))\n",
    "            cv2.polylines(frame, [hull], True, (0, 255, 0), 2)\n",
    "        else:\n",
    "            cv2.polylines(frame, [points], True, (0, 255, 0), 2)\n",
    "        x, y, w, h = obj.rect\n",
    "        cv2.rectangle(frame, (x, y), (x + w, y + h), (0, 0, 255), 2)\n",
    "\n",
    "    cv2.imshow('QR Code Scanner', frame)\n",
    "\n",
    "    # Break the loop if 'q' is pressed\n",
    "    if cv2.waitKey(1) & 0xFF == ord('q'):\n",
    "        break\n",
    "\n",
    "# Release the webcam and close OpenCV window\n",
    "cap.release()\n",
    "cv2.destroyAllWindows()\n"
   ]
  },
  {
   "cell_type": "code",
   "execution_count": 2,
   "id": "01e60511",
   "metadata": {},
   "outputs": [
    {
     "ename": "FileNotFoundError",
     "evalue": "Could not find module 'C:\\Users\\aksha\\anaconda3\\envs\\env12\\lib\\site-packages\\pyzbar\\libzbar-64.dll' (or one of its dependencies). Try using the full path with constructor syntax.",
     "output_type": "error",
     "traceback": [
      "\u001b[1;31m---------------------------------------------------------------------------\u001b[0m",
      "\u001b[1;31mFileNotFoundError\u001b[0m                         Traceback (most recent call last)",
      "File \u001b[1;32m~\\anaconda3\\envs\\env12\\lib\\site-packages\\pyzbar\\zbar_library.py:58\u001b[0m, in \u001b[0;36mload\u001b[1;34m()\u001b[0m\n\u001b[0;32m     57\u001b[0m \u001b[38;5;28;01mtry\u001b[39;00m:\n\u001b[1;32m---> 58\u001b[0m     dependencies, libzbar \u001b[38;5;241m=\u001b[39m \u001b[43mload_objects\u001b[49m\u001b[43m(\u001b[49m\u001b[43mPath\u001b[49m\u001b[43m(\u001b[49m\u001b[38;5;124;43m'\u001b[39;49m\u001b[38;5;124;43m'\u001b[39;49m\u001b[43m)\u001b[49m\u001b[43m)\u001b[49m\n\u001b[0;32m     59\u001b[0m \u001b[38;5;28;01mexcept\u001b[39;00m \u001b[38;5;167;01mOSError\u001b[39;00m:\n",
      "File \u001b[1;32m~\\anaconda3\\envs\\env12\\lib\\site-packages\\pyzbar\\zbar_library.py:54\u001b[0m, in \u001b[0;36mload.<locals>.load_objects\u001b[1;34m(directory)\u001b[0m\n\u001b[0;32m     50\u001b[0m deps \u001b[38;5;241m=\u001b[39m [\n\u001b[0;32m     51\u001b[0m     cdll\u001b[38;5;241m.\u001b[39mLoadLibrary(\u001b[38;5;28mstr\u001b[39m(directory\u001b[38;5;241m.\u001b[39mjoinpath(dep)))\n\u001b[0;32m     52\u001b[0m     \u001b[38;5;28;01mfor\u001b[39;00m dep \u001b[38;5;129;01min\u001b[39;00m dependencies\n\u001b[0;32m     53\u001b[0m ]\n\u001b[1;32m---> 54\u001b[0m libzbar \u001b[38;5;241m=\u001b[39m \u001b[43mcdll\u001b[49m\u001b[38;5;241;43m.\u001b[39;49m\u001b[43mLoadLibrary\u001b[49m\u001b[43m(\u001b[49m\u001b[38;5;28;43mstr\u001b[39;49m\u001b[43m(\u001b[49m\u001b[43mdirectory\u001b[49m\u001b[38;5;241;43m.\u001b[39;49m\u001b[43mjoinpath\u001b[49m\u001b[43m(\u001b[49m\u001b[43mfname\u001b[49m\u001b[43m)\u001b[49m\u001b[43m)\u001b[49m\u001b[43m)\u001b[49m\n\u001b[0;32m     55\u001b[0m \u001b[38;5;28;01mreturn\u001b[39;00m deps, libzbar\n",
      "File \u001b[1;32m~\\anaconda3\\envs\\env12\\lib\\ctypes\\__init__.py:452\u001b[0m, in \u001b[0;36mLibraryLoader.LoadLibrary\u001b[1;34m(self, name)\u001b[0m\n\u001b[0;32m    451\u001b[0m \u001b[38;5;28;01mdef\u001b[39;00m \u001b[38;5;21mLoadLibrary\u001b[39m(\u001b[38;5;28mself\u001b[39m, name):\n\u001b[1;32m--> 452\u001b[0m     \u001b[38;5;28;01mreturn\u001b[39;00m \u001b[38;5;28;43mself\u001b[39;49m\u001b[38;5;241;43m.\u001b[39;49m\u001b[43m_dlltype\u001b[49m\u001b[43m(\u001b[49m\u001b[43mname\u001b[49m\u001b[43m)\u001b[49m\n",
      "File \u001b[1;32m~\\anaconda3\\envs\\env12\\lib\\ctypes\\__init__.py:374\u001b[0m, in \u001b[0;36mCDLL.__init__\u001b[1;34m(self, name, mode, handle, use_errno, use_last_error, winmode)\u001b[0m\n\u001b[0;32m    373\u001b[0m \u001b[38;5;28;01mif\u001b[39;00m handle \u001b[38;5;129;01mis\u001b[39;00m \u001b[38;5;28;01mNone\u001b[39;00m:\n\u001b[1;32m--> 374\u001b[0m     \u001b[38;5;28mself\u001b[39m\u001b[38;5;241m.\u001b[39m_handle \u001b[38;5;241m=\u001b[39m \u001b[43m_dlopen\u001b[49m\u001b[43m(\u001b[49m\u001b[38;5;28;43mself\u001b[39;49m\u001b[38;5;241;43m.\u001b[39;49m\u001b[43m_name\u001b[49m\u001b[43m,\u001b[49m\u001b[43m \u001b[49m\u001b[43mmode\u001b[49m\u001b[43m)\u001b[49m\n\u001b[0;32m    375\u001b[0m \u001b[38;5;28;01melse\u001b[39;00m:\n",
      "\u001b[1;31mFileNotFoundError\u001b[0m: Could not find module 'libzbar-64.dll' (or one of its dependencies). Try using the full path with constructor syntax.",
      "\nDuring handling of the above exception, another exception occurred:\n",
      "\u001b[1;31mFileNotFoundError\u001b[0m                         Traceback (most recent call last)",
      "Cell \u001b[1;32mIn[2], line 2\u001b[0m\n\u001b[0;32m      1\u001b[0m \u001b[38;5;28;01mimport\u001b[39;00m \u001b[38;5;21;01mcv2\u001b[39;00m\n\u001b[1;32m----> 2\u001b[0m \u001b[38;5;28;01mfrom\u001b[39;00m \u001b[38;5;21;01mpyzbar\u001b[39;00m\u001b[38;5;21;01m.\u001b[39;00m\u001b[38;5;21;01mpyzbar\u001b[39;00m \u001b[38;5;28;01mimport\u001b[39;00m decode\n\u001b[0;32m      4\u001b[0m \u001b[38;5;66;03m# Initialize the webcam\u001b[39;00m\n\u001b[0;32m      5\u001b[0m cap \u001b[38;5;241m=\u001b[39m cv2\u001b[38;5;241m.\u001b[39mVideoCapture(\u001b[38;5;241m0\u001b[39m)  \u001b[38;5;66;03m# Use the default camera (you may need to adjust this)\u001b[39;00m\n",
      "File \u001b[1;32m~\\anaconda3\\envs\\env12\\lib\\site-packages\\pyzbar\\pyzbar.py:7\u001b[0m\n\u001b[0;32m      5\u001b[0m \u001b[38;5;28;01mfrom\u001b[39;00m \u001b[38;5;21;01m.\u001b[39;00m\u001b[38;5;21;01mlocations\u001b[39;00m \u001b[38;5;28;01mimport\u001b[39;00m bounding_box, convex_hull, Point, Rect\n\u001b[0;32m      6\u001b[0m \u001b[38;5;28;01mfrom\u001b[39;00m \u001b[38;5;21;01m.\u001b[39;00m\u001b[38;5;21;01mpyzbar_error\u001b[39;00m \u001b[38;5;28;01mimport\u001b[39;00m PyZbarError\n\u001b[1;32m----> 7\u001b[0m \u001b[38;5;28;01mfrom\u001b[39;00m \u001b[38;5;21;01m.\u001b[39;00m\u001b[38;5;21;01mwrapper\u001b[39;00m \u001b[38;5;28;01mimport\u001b[39;00m (\n\u001b[0;32m      8\u001b[0m     zbar_image_scanner_set_config,\n\u001b[0;32m      9\u001b[0m     zbar_image_scanner_create, zbar_image_scanner_destroy,\n\u001b[0;32m     10\u001b[0m     zbar_image_create, zbar_image_destroy, zbar_image_set_format,\n\u001b[0;32m     11\u001b[0m     zbar_image_set_size, zbar_image_set_data, zbar_scan_image,\n\u001b[0;32m     12\u001b[0m     zbar_image_first_symbol, zbar_symbol_get_data_length,\n\u001b[0;32m     13\u001b[0m     zbar_symbol_get_data, zbar_symbol_get_orientation,\n\u001b[0;32m     14\u001b[0m     zbar_symbol_get_loc_size, zbar_symbol_get_loc_x, zbar_symbol_get_loc_y,\n\u001b[0;32m     15\u001b[0m     zbar_symbol_get_quality, zbar_symbol_next, ZBarConfig, ZBarOrientation,\n\u001b[0;32m     16\u001b[0m     ZBarSymbol, EXTERNAL_DEPENDENCIES,\n\u001b[0;32m     17\u001b[0m )\n\u001b[0;32m     19\u001b[0m __all__ \u001b[38;5;241m=\u001b[39m [\n\u001b[0;32m     20\u001b[0m     \u001b[38;5;124m'\u001b[39m\u001b[38;5;124mdecode\u001b[39m\u001b[38;5;124m'\u001b[39m, \u001b[38;5;124m'\u001b[39m\u001b[38;5;124mPoint\u001b[39m\u001b[38;5;124m'\u001b[39m, \u001b[38;5;124m'\u001b[39m\u001b[38;5;124mRect\u001b[39m\u001b[38;5;124m'\u001b[39m, \u001b[38;5;124m'\u001b[39m\u001b[38;5;124mDecoded\u001b[39m\u001b[38;5;124m'\u001b[39m, \u001b[38;5;124m'\u001b[39m\u001b[38;5;124mZBarSymbol\u001b[39m\u001b[38;5;124m'\u001b[39m, \u001b[38;5;124m'\u001b[39m\u001b[38;5;124mEXTERNAL_DEPENDENCIES\u001b[39m\u001b[38;5;124m'\u001b[39m, \u001b[38;5;124m'\u001b[39m\u001b[38;5;124mORIENTATION_AVAILABLE\u001b[39m\u001b[38;5;124m'\u001b[39m\n\u001b[0;32m     21\u001b[0m ]\n\u001b[0;32m     24\u001b[0m ORIENTATION_AVAILABLE \u001b[38;5;241m=\u001b[39m zbar_symbol_get_orientation \u001b[38;5;129;01mis\u001b[39;00m \u001b[38;5;129;01mnot\u001b[39;00m \u001b[38;5;28;01mNone\u001b[39;00m\n",
      "File \u001b[1;32m~\\anaconda3\\envs\\env12\\lib\\site-packages\\pyzbar\\wrapper.py:151\u001b[0m\n\u001b[0;32m    147\u001b[0m     prototype \u001b[38;5;241m=\u001b[39m CFUNCTYPE(restype, \u001b[38;5;241m*\u001b[39margs)\n\u001b[0;32m    148\u001b[0m     \u001b[38;5;28;01mreturn\u001b[39;00m prototype((fname, load_libzbar()))\n\u001b[1;32m--> 151\u001b[0m zbar_version \u001b[38;5;241m=\u001b[39m \u001b[43mzbar_function\u001b[49m\u001b[43m(\u001b[49m\n\u001b[0;32m    152\u001b[0m \u001b[43m    \u001b[49m\u001b[38;5;124;43m'\u001b[39;49m\u001b[38;5;124;43mzbar_version\u001b[39;49m\u001b[38;5;124;43m'\u001b[39;49m\u001b[43m,\u001b[49m\n\u001b[0;32m    153\u001b[0m \u001b[43m    \u001b[49m\u001b[43mc_int\u001b[49m\u001b[43m,\u001b[49m\n\u001b[0;32m    154\u001b[0m \u001b[43m    \u001b[49m\u001b[43mc_uint_p\u001b[49m\u001b[43m,\u001b[49m\u001b[43m    \u001b[49m\u001b[38;5;66;43;03m# major,\u001b[39;49;00m\n\u001b[0;32m    155\u001b[0m \u001b[43m    \u001b[49m\u001b[43mc_uint_p\u001b[49m\u001b[43m,\u001b[49m\u001b[43m    \u001b[49m\u001b[38;5;66;43;03m# minor\u001b[39;49;00m\n\u001b[0;32m    156\u001b[0m \u001b[43m)\u001b[49m\n\u001b[0;32m    158\u001b[0m zbar_set_verbosity \u001b[38;5;241m=\u001b[39m zbar_function(\n\u001b[0;32m    159\u001b[0m     \u001b[38;5;124m'\u001b[39m\u001b[38;5;124mzbar_set_verbosity\u001b[39m\u001b[38;5;124m'\u001b[39m,\n\u001b[0;32m    160\u001b[0m     \u001b[38;5;28;01mNone\u001b[39;00m,\n\u001b[0;32m    161\u001b[0m     c_int\n\u001b[0;32m    162\u001b[0m )\n\u001b[0;32m    164\u001b[0m zbar_image_scanner_create \u001b[38;5;241m=\u001b[39m zbar_function(\n\u001b[0;32m    165\u001b[0m     \u001b[38;5;124m'\u001b[39m\u001b[38;5;124mzbar_image_scanner_create\u001b[39m\u001b[38;5;124m'\u001b[39m,\n\u001b[0;32m    166\u001b[0m     POINTER(zbar_image_scanner)\n\u001b[0;32m    167\u001b[0m )\n",
      "File \u001b[1;32m~\\anaconda3\\envs\\env12\\lib\\site-packages\\pyzbar\\wrapper.py:148\u001b[0m, in \u001b[0;36mzbar_function\u001b[1;34m(fname, restype, *args)\u001b[0m\n\u001b[0;32m    136\u001b[0m \u001b[38;5;250m\u001b[39m\u001b[38;5;124;03m\"\"\"Returns a foreign function exported by `zbar`.\u001b[39;00m\n\u001b[0;32m    137\u001b[0m \n\u001b[0;32m    138\u001b[0m \u001b[38;5;124;03mArgs:\u001b[39;00m\n\u001b[1;32m   (...)\u001b[0m\n\u001b[0;32m    145\u001b[0m \u001b[38;5;124;03m    cddl.CFunctionType: A wrapper around the function.\u001b[39;00m\n\u001b[0;32m    146\u001b[0m \u001b[38;5;124;03m\"\"\"\u001b[39;00m\n\u001b[0;32m    147\u001b[0m prototype \u001b[38;5;241m=\u001b[39m CFUNCTYPE(restype, \u001b[38;5;241m*\u001b[39margs)\n\u001b[1;32m--> 148\u001b[0m \u001b[38;5;28;01mreturn\u001b[39;00m prototype((fname, \u001b[43mload_libzbar\u001b[49m\u001b[43m(\u001b[49m\u001b[43m)\u001b[49m))\n",
      "File \u001b[1;32m~\\anaconda3\\envs\\env12\\lib\\site-packages\\pyzbar\\wrapper.py:127\u001b[0m, in \u001b[0;36mload_libzbar\u001b[1;34m()\u001b[0m\n\u001b[0;32m    125\u001b[0m \u001b[38;5;28;01mglobal\u001b[39;00m EXTERNAL_DEPENDENCIES\n\u001b[0;32m    126\u001b[0m \u001b[38;5;28;01mif\u001b[39;00m \u001b[38;5;129;01mnot\u001b[39;00m LIBZBAR:\n\u001b[1;32m--> 127\u001b[0m     libzbar, dependencies \u001b[38;5;241m=\u001b[39m \u001b[43mzbar_library\u001b[49m\u001b[38;5;241;43m.\u001b[39;49m\u001b[43mload\u001b[49m\u001b[43m(\u001b[49m\u001b[43m)\u001b[49m\n\u001b[0;32m    128\u001b[0m     LIBZBAR \u001b[38;5;241m=\u001b[39m libzbar\n\u001b[0;32m    129\u001b[0m     EXTERNAL_DEPENDENCIES \u001b[38;5;241m=\u001b[39m [LIBZBAR] \u001b[38;5;241m+\u001b[39m dependencies\n",
      "File \u001b[1;32m~\\anaconda3\\envs\\env12\\lib\\site-packages\\pyzbar\\zbar_library.py:60\u001b[0m, in \u001b[0;36mload\u001b[1;34m()\u001b[0m\n\u001b[0;32m     58\u001b[0m         dependencies, libzbar \u001b[38;5;241m=\u001b[39m load_objects(Path(\u001b[38;5;124m'\u001b[39m\u001b[38;5;124m'\u001b[39m))\n\u001b[0;32m     59\u001b[0m     \u001b[38;5;28;01mexcept\u001b[39;00m \u001b[38;5;167;01mOSError\u001b[39;00m:\n\u001b[1;32m---> 60\u001b[0m         dependencies, libzbar \u001b[38;5;241m=\u001b[39m \u001b[43mload_objects\u001b[49m\u001b[43m(\u001b[49m\u001b[43mPath\u001b[49m\u001b[43m(\u001b[49m\u001b[38;5;18;43m__file__\u001b[39;49m\u001b[43m)\u001b[49m\u001b[38;5;241;43m.\u001b[39;49m\u001b[43mparent\u001b[49m\u001b[43m)\u001b[49m\n\u001b[0;32m     61\u001b[0m \u001b[38;5;28;01melse\u001b[39;00m:\n\u001b[0;32m     62\u001b[0m     \u001b[38;5;66;03m# Assume a shared library on the path\u001b[39;00m\n\u001b[0;32m     63\u001b[0m     path \u001b[38;5;241m=\u001b[39m find_library(\u001b[38;5;124m'\u001b[39m\u001b[38;5;124mzbar\u001b[39m\u001b[38;5;124m'\u001b[39m)\n",
      "File \u001b[1;32m~\\anaconda3\\envs\\env12\\lib\\site-packages\\pyzbar\\zbar_library.py:54\u001b[0m, in \u001b[0;36mload.<locals>.load_objects\u001b[1;34m(directory)\u001b[0m\n\u001b[0;32m     48\u001b[0m \u001b[38;5;28;01mdef\u001b[39;00m \u001b[38;5;21mload_objects\u001b[39m(directory):\n\u001b[0;32m     49\u001b[0m     \u001b[38;5;66;03m# Load dependencies before loading libzbar dll\u001b[39;00m\n\u001b[0;32m     50\u001b[0m     deps \u001b[38;5;241m=\u001b[39m [\n\u001b[0;32m     51\u001b[0m         cdll\u001b[38;5;241m.\u001b[39mLoadLibrary(\u001b[38;5;28mstr\u001b[39m(directory\u001b[38;5;241m.\u001b[39mjoinpath(dep)))\n\u001b[0;32m     52\u001b[0m         \u001b[38;5;28;01mfor\u001b[39;00m dep \u001b[38;5;129;01min\u001b[39;00m dependencies\n\u001b[0;32m     53\u001b[0m     ]\n\u001b[1;32m---> 54\u001b[0m     libzbar \u001b[38;5;241m=\u001b[39m \u001b[43mcdll\u001b[49m\u001b[38;5;241;43m.\u001b[39;49m\u001b[43mLoadLibrary\u001b[49m\u001b[43m(\u001b[49m\u001b[38;5;28;43mstr\u001b[39;49m\u001b[43m(\u001b[49m\u001b[43mdirectory\u001b[49m\u001b[38;5;241;43m.\u001b[39;49m\u001b[43mjoinpath\u001b[49m\u001b[43m(\u001b[49m\u001b[43mfname\u001b[49m\u001b[43m)\u001b[49m\u001b[43m)\u001b[49m\u001b[43m)\u001b[49m\n\u001b[0;32m     55\u001b[0m     \u001b[38;5;28;01mreturn\u001b[39;00m deps, libzbar\n",
      "File \u001b[1;32m~\\anaconda3\\envs\\env12\\lib\\ctypes\\__init__.py:452\u001b[0m, in \u001b[0;36mLibraryLoader.LoadLibrary\u001b[1;34m(self, name)\u001b[0m\n\u001b[0;32m    451\u001b[0m \u001b[38;5;28;01mdef\u001b[39;00m \u001b[38;5;21mLoadLibrary\u001b[39m(\u001b[38;5;28mself\u001b[39m, name):\n\u001b[1;32m--> 452\u001b[0m     \u001b[38;5;28;01mreturn\u001b[39;00m \u001b[38;5;28;43mself\u001b[39;49m\u001b[38;5;241;43m.\u001b[39;49m\u001b[43m_dlltype\u001b[49m\u001b[43m(\u001b[49m\u001b[43mname\u001b[49m\u001b[43m)\u001b[49m\n",
      "File \u001b[1;32m~\\anaconda3\\envs\\env12\\lib\\ctypes\\__init__.py:374\u001b[0m, in \u001b[0;36mCDLL.__init__\u001b[1;34m(self, name, mode, handle, use_errno, use_last_error, winmode)\u001b[0m\n\u001b[0;32m    371\u001b[0m \u001b[38;5;28mself\u001b[39m\u001b[38;5;241m.\u001b[39m_FuncPtr \u001b[38;5;241m=\u001b[39m _FuncPtr\n\u001b[0;32m    373\u001b[0m \u001b[38;5;28;01mif\u001b[39;00m handle \u001b[38;5;129;01mis\u001b[39;00m \u001b[38;5;28;01mNone\u001b[39;00m:\n\u001b[1;32m--> 374\u001b[0m     \u001b[38;5;28mself\u001b[39m\u001b[38;5;241m.\u001b[39m_handle \u001b[38;5;241m=\u001b[39m \u001b[43m_dlopen\u001b[49m\u001b[43m(\u001b[49m\u001b[38;5;28;43mself\u001b[39;49m\u001b[38;5;241;43m.\u001b[39;49m\u001b[43m_name\u001b[49m\u001b[43m,\u001b[49m\u001b[43m \u001b[49m\u001b[43mmode\u001b[49m\u001b[43m)\u001b[49m\n\u001b[0;32m    375\u001b[0m \u001b[38;5;28;01melse\u001b[39;00m:\n\u001b[0;32m    376\u001b[0m     \u001b[38;5;28mself\u001b[39m\u001b[38;5;241m.\u001b[39m_handle \u001b[38;5;241m=\u001b[39m handle\n",
      "\u001b[1;31mFileNotFoundError\u001b[0m: Could not find module 'C:\\Users\\aksha\\anaconda3\\envs\\env12\\lib\\site-packages\\pyzbar\\libzbar-64.dll' (or one of its dependencies). Try using the full path with constructor syntax."
     ]
    }
   ],
   "source": [
    "import cv2\n",
    "from pyzbar.pyzbar import decode\n",
    "\n",
    "# Initialize the webcam\n",
    "cap = cv2.VideoCapture(0)  # Use the default camera (you may need to adjust this)\n",
    "\n",
    "while True:\n",
    "    # Read a frame from the webcam\n",
    "    ret, frame = cap.read()\n",
    "    \n",
    "\n",
    "    # Decode QR codes in the frame\n",
    "    decoded_objects = decode(frame)\n",
    "\n",
    "    for obj in decoded_objects:\n",
    "        qr_data = obj.data.decode('utf-8')\n",
    "        print(f\"QR Code Data: {qr_data}\")\n",
    "\n",
    "    # Display the frame with QR code boundaries (optional)\n",
    "    for obj in decoded_objects:\n",
    "        points = obj.polygon\n",
    "        if len(points) > 4:\n",
    "            hull = cv2.convexHull(np.array([point for point in points], dtype=np.float32))\n",
    "            cv2.polylines(frame, [hull], True, (0, 255, 0), 2)\n",
    "        else:\n",
    "            cv2.polylines(frame, [points], True, (0, 255, 0), 2)\n",
    "        x, y, w, h = obj.rect\n",
    "        cv2.rectangle(frame, (x, y), (x + w, y + h), (0, 0, 255), 2)\n",
    "\n",
    "    cv2.imshow('QR Code Scanner', frame)\n",
    "\n",
    "    # Break the loop if 'q' is pressed\n",
    "    if cv2.waitKey(1) & 0xFF == ord('q'):\n",
    "        break\n",
    "\n",
    "# Release the webcam and close OpenCV window\n",
    "cap.release()\n",
    "cv2.destroyAllWindows()\n"
   ]
  },
  {
   "cell_type": "code",
   "execution_count": 3,
   "id": "409f497a",
   "metadata": {},
   "outputs": [
    {
     "ename": "FileNotFoundError",
     "evalue": "Could not find module 'C:\\Users\\aksha\\anaconda3\\envs\\env12\\lib\\site-packages\\pyzbar\\libzbar-64.dll' (or one of its dependencies). Try using the full path with constructor syntax.",
     "output_type": "error",
     "traceback": [
      "\u001b[1;31m---------------------------------------------------------------------------\u001b[0m",
      "\u001b[1;31mFileNotFoundError\u001b[0m                         Traceback (most recent call last)",
      "File \u001b[1;32m~\\anaconda3\\envs\\env12\\lib\\site-packages\\pyzbar\\zbar_library.py:58\u001b[0m, in \u001b[0;36mload\u001b[1;34m()\u001b[0m\n\u001b[0;32m     57\u001b[0m \u001b[38;5;28;01mtry\u001b[39;00m:\n\u001b[1;32m---> 58\u001b[0m     dependencies, libzbar \u001b[38;5;241m=\u001b[39m \u001b[43mload_objects\u001b[49m\u001b[43m(\u001b[49m\u001b[43mPath\u001b[49m\u001b[43m(\u001b[49m\u001b[38;5;124;43m'\u001b[39;49m\u001b[38;5;124;43m'\u001b[39;49m\u001b[43m)\u001b[49m\u001b[43m)\u001b[49m\n\u001b[0;32m     59\u001b[0m \u001b[38;5;28;01mexcept\u001b[39;00m \u001b[38;5;167;01mOSError\u001b[39;00m:\n",
      "File \u001b[1;32m~\\anaconda3\\envs\\env12\\lib\\site-packages\\pyzbar\\zbar_library.py:54\u001b[0m, in \u001b[0;36mload.<locals>.load_objects\u001b[1;34m(directory)\u001b[0m\n\u001b[0;32m     50\u001b[0m deps \u001b[38;5;241m=\u001b[39m [\n\u001b[0;32m     51\u001b[0m     cdll\u001b[38;5;241m.\u001b[39mLoadLibrary(\u001b[38;5;28mstr\u001b[39m(directory\u001b[38;5;241m.\u001b[39mjoinpath(dep)))\n\u001b[0;32m     52\u001b[0m     \u001b[38;5;28;01mfor\u001b[39;00m dep \u001b[38;5;129;01min\u001b[39;00m dependencies\n\u001b[0;32m     53\u001b[0m ]\n\u001b[1;32m---> 54\u001b[0m libzbar \u001b[38;5;241m=\u001b[39m \u001b[43mcdll\u001b[49m\u001b[38;5;241;43m.\u001b[39;49m\u001b[43mLoadLibrary\u001b[49m\u001b[43m(\u001b[49m\u001b[38;5;28;43mstr\u001b[39;49m\u001b[43m(\u001b[49m\u001b[43mdirectory\u001b[49m\u001b[38;5;241;43m.\u001b[39;49m\u001b[43mjoinpath\u001b[49m\u001b[43m(\u001b[49m\u001b[43mfname\u001b[49m\u001b[43m)\u001b[49m\u001b[43m)\u001b[49m\u001b[43m)\u001b[49m\n\u001b[0;32m     55\u001b[0m \u001b[38;5;28;01mreturn\u001b[39;00m deps, libzbar\n",
      "File \u001b[1;32m~\\anaconda3\\envs\\env12\\lib\\ctypes\\__init__.py:452\u001b[0m, in \u001b[0;36mLibraryLoader.LoadLibrary\u001b[1;34m(self, name)\u001b[0m\n\u001b[0;32m    451\u001b[0m \u001b[38;5;28;01mdef\u001b[39;00m \u001b[38;5;21mLoadLibrary\u001b[39m(\u001b[38;5;28mself\u001b[39m, name):\n\u001b[1;32m--> 452\u001b[0m     \u001b[38;5;28;01mreturn\u001b[39;00m \u001b[38;5;28;43mself\u001b[39;49m\u001b[38;5;241;43m.\u001b[39;49m\u001b[43m_dlltype\u001b[49m\u001b[43m(\u001b[49m\u001b[43mname\u001b[49m\u001b[43m)\u001b[49m\n",
      "File \u001b[1;32m~\\anaconda3\\envs\\env12\\lib\\ctypes\\__init__.py:374\u001b[0m, in \u001b[0;36mCDLL.__init__\u001b[1;34m(self, name, mode, handle, use_errno, use_last_error, winmode)\u001b[0m\n\u001b[0;32m    373\u001b[0m \u001b[38;5;28;01mif\u001b[39;00m handle \u001b[38;5;129;01mis\u001b[39;00m \u001b[38;5;28;01mNone\u001b[39;00m:\n\u001b[1;32m--> 374\u001b[0m     \u001b[38;5;28mself\u001b[39m\u001b[38;5;241m.\u001b[39m_handle \u001b[38;5;241m=\u001b[39m \u001b[43m_dlopen\u001b[49m\u001b[43m(\u001b[49m\u001b[38;5;28;43mself\u001b[39;49m\u001b[38;5;241;43m.\u001b[39;49m\u001b[43m_name\u001b[49m\u001b[43m,\u001b[49m\u001b[43m \u001b[49m\u001b[43mmode\u001b[49m\u001b[43m)\u001b[49m\n\u001b[0;32m    375\u001b[0m \u001b[38;5;28;01melse\u001b[39;00m:\n",
      "\u001b[1;31mFileNotFoundError\u001b[0m: Could not find module 'libzbar-64.dll' (or one of its dependencies). Try using the full path with constructor syntax.",
      "\nDuring handling of the above exception, another exception occurred:\n",
      "\u001b[1;31mFileNotFoundError\u001b[0m                         Traceback (most recent call last)",
      "Cell \u001b[1;32mIn[3], line 2\u001b[0m\n\u001b[0;32m      1\u001b[0m \u001b[38;5;28;01mimport\u001b[39;00m \u001b[38;5;21;01mcv2\u001b[39;00m\n\u001b[1;32m----> 2\u001b[0m \u001b[38;5;28;01mfrom\u001b[39;00m \u001b[38;5;21;01mpyzbar\u001b[39;00m\u001b[38;5;21;01m.\u001b[39;00m\u001b[38;5;21;01mpyzbar\u001b[39;00m \u001b[38;5;28;01mimport\u001b[39;00m decode\n",
      "File \u001b[1;32m~\\anaconda3\\envs\\env12\\lib\\site-packages\\pyzbar\\pyzbar.py:7\u001b[0m\n\u001b[0;32m      5\u001b[0m \u001b[38;5;28;01mfrom\u001b[39;00m \u001b[38;5;21;01m.\u001b[39;00m\u001b[38;5;21;01mlocations\u001b[39;00m \u001b[38;5;28;01mimport\u001b[39;00m bounding_box, convex_hull, Point, Rect\n\u001b[0;32m      6\u001b[0m \u001b[38;5;28;01mfrom\u001b[39;00m \u001b[38;5;21;01m.\u001b[39;00m\u001b[38;5;21;01mpyzbar_error\u001b[39;00m \u001b[38;5;28;01mimport\u001b[39;00m PyZbarError\n\u001b[1;32m----> 7\u001b[0m \u001b[38;5;28;01mfrom\u001b[39;00m \u001b[38;5;21;01m.\u001b[39;00m\u001b[38;5;21;01mwrapper\u001b[39;00m \u001b[38;5;28;01mimport\u001b[39;00m (\n\u001b[0;32m      8\u001b[0m     zbar_image_scanner_set_config,\n\u001b[0;32m      9\u001b[0m     zbar_image_scanner_create, zbar_image_scanner_destroy,\n\u001b[0;32m     10\u001b[0m     zbar_image_create, zbar_image_destroy, zbar_image_set_format,\n\u001b[0;32m     11\u001b[0m     zbar_image_set_size, zbar_image_set_data, zbar_scan_image,\n\u001b[0;32m     12\u001b[0m     zbar_image_first_symbol, zbar_symbol_get_data_length,\n\u001b[0;32m     13\u001b[0m     zbar_symbol_get_data, zbar_symbol_get_orientation,\n\u001b[0;32m     14\u001b[0m     zbar_symbol_get_loc_size, zbar_symbol_get_loc_x, zbar_symbol_get_loc_y,\n\u001b[0;32m     15\u001b[0m     zbar_symbol_get_quality, zbar_symbol_next, ZBarConfig, ZBarOrientation,\n\u001b[0;32m     16\u001b[0m     ZBarSymbol, EXTERNAL_DEPENDENCIES,\n\u001b[0;32m     17\u001b[0m )\n\u001b[0;32m     19\u001b[0m __all__ \u001b[38;5;241m=\u001b[39m [\n\u001b[0;32m     20\u001b[0m     \u001b[38;5;124m'\u001b[39m\u001b[38;5;124mdecode\u001b[39m\u001b[38;5;124m'\u001b[39m, \u001b[38;5;124m'\u001b[39m\u001b[38;5;124mPoint\u001b[39m\u001b[38;5;124m'\u001b[39m, \u001b[38;5;124m'\u001b[39m\u001b[38;5;124mRect\u001b[39m\u001b[38;5;124m'\u001b[39m, \u001b[38;5;124m'\u001b[39m\u001b[38;5;124mDecoded\u001b[39m\u001b[38;5;124m'\u001b[39m, \u001b[38;5;124m'\u001b[39m\u001b[38;5;124mZBarSymbol\u001b[39m\u001b[38;5;124m'\u001b[39m, \u001b[38;5;124m'\u001b[39m\u001b[38;5;124mEXTERNAL_DEPENDENCIES\u001b[39m\u001b[38;5;124m'\u001b[39m, \u001b[38;5;124m'\u001b[39m\u001b[38;5;124mORIENTATION_AVAILABLE\u001b[39m\u001b[38;5;124m'\u001b[39m\n\u001b[0;32m     21\u001b[0m ]\n\u001b[0;32m     24\u001b[0m ORIENTATION_AVAILABLE \u001b[38;5;241m=\u001b[39m zbar_symbol_get_orientation \u001b[38;5;129;01mis\u001b[39;00m \u001b[38;5;129;01mnot\u001b[39;00m \u001b[38;5;28;01mNone\u001b[39;00m\n",
      "File \u001b[1;32m~\\anaconda3\\envs\\env12\\lib\\site-packages\\pyzbar\\wrapper.py:151\u001b[0m\n\u001b[0;32m    147\u001b[0m     prototype \u001b[38;5;241m=\u001b[39m CFUNCTYPE(restype, \u001b[38;5;241m*\u001b[39margs)\n\u001b[0;32m    148\u001b[0m     \u001b[38;5;28;01mreturn\u001b[39;00m prototype((fname, load_libzbar()))\n\u001b[1;32m--> 151\u001b[0m zbar_version \u001b[38;5;241m=\u001b[39m \u001b[43mzbar_function\u001b[49m\u001b[43m(\u001b[49m\n\u001b[0;32m    152\u001b[0m \u001b[43m    \u001b[49m\u001b[38;5;124;43m'\u001b[39;49m\u001b[38;5;124;43mzbar_version\u001b[39;49m\u001b[38;5;124;43m'\u001b[39;49m\u001b[43m,\u001b[49m\n\u001b[0;32m    153\u001b[0m \u001b[43m    \u001b[49m\u001b[43mc_int\u001b[49m\u001b[43m,\u001b[49m\n\u001b[0;32m    154\u001b[0m \u001b[43m    \u001b[49m\u001b[43mc_uint_p\u001b[49m\u001b[43m,\u001b[49m\u001b[43m    \u001b[49m\u001b[38;5;66;43;03m# major,\u001b[39;49;00m\n\u001b[0;32m    155\u001b[0m \u001b[43m    \u001b[49m\u001b[43mc_uint_p\u001b[49m\u001b[43m,\u001b[49m\u001b[43m    \u001b[49m\u001b[38;5;66;43;03m# minor\u001b[39;49;00m\n\u001b[0;32m    156\u001b[0m \u001b[43m)\u001b[49m\n\u001b[0;32m    158\u001b[0m zbar_set_verbosity \u001b[38;5;241m=\u001b[39m zbar_function(\n\u001b[0;32m    159\u001b[0m     \u001b[38;5;124m'\u001b[39m\u001b[38;5;124mzbar_set_verbosity\u001b[39m\u001b[38;5;124m'\u001b[39m,\n\u001b[0;32m    160\u001b[0m     \u001b[38;5;28;01mNone\u001b[39;00m,\n\u001b[0;32m    161\u001b[0m     c_int\n\u001b[0;32m    162\u001b[0m )\n\u001b[0;32m    164\u001b[0m zbar_image_scanner_create \u001b[38;5;241m=\u001b[39m zbar_function(\n\u001b[0;32m    165\u001b[0m     \u001b[38;5;124m'\u001b[39m\u001b[38;5;124mzbar_image_scanner_create\u001b[39m\u001b[38;5;124m'\u001b[39m,\n\u001b[0;32m    166\u001b[0m     POINTER(zbar_image_scanner)\n\u001b[0;32m    167\u001b[0m )\n",
      "File \u001b[1;32m~\\anaconda3\\envs\\env12\\lib\\site-packages\\pyzbar\\wrapper.py:148\u001b[0m, in \u001b[0;36mzbar_function\u001b[1;34m(fname, restype, *args)\u001b[0m\n\u001b[0;32m    136\u001b[0m \u001b[38;5;250m\u001b[39m\u001b[38;5;124;03m\"\"\"Returns a foreign function exported by `zbar`.\u001b[39;00m\n\u001b[0;32m    137\u001b[0m \n\u001b[0;32m    138\u001b[0m \u001b[38;5;124;03mArgs:\u001b[39;00m\n\u001b[1;32m   (...)\u001b[0m\n\u001b[0;32m    145\u001b[0m \u001b[38;5;124;03m    cddl.CFunctionType: A wrapper around the function.\u001b[39;00m\n\u001b[0;32m    146\u001b[0m \u001b[38;5;124;03m\"\"\"\u001b[39;00m\n\u001b[0;32m    147\u001b[0m prototype \u001b[38;5;241m=\u001b[39m CFUNCTYPE(restype, \u001b[38;5;241m*\u001b[39margs)\n\u001b[1;32m--> 148\u001b[0m \u001b[38;5;28;01mreturn\u001b[39;00m prototype((fname, \u001b[43mload_libzbar\u001b[49m\u001b[43m(\u001b[49m\u001b[43m)\u001b[49m))\n",
      "File \u001b[1;32m~\\anaconda3\\envs\\env12\\lib\\site-packages\\pyzbar\\wrapper.py:127\u001b[0m, in \u001b[0;36mload_libzbar\u001b[1;34m()\u001b[0m\n\u001b[0;32m    125\u001b[0m \u001b[38;5;28;01mglobal\u001b[39;00m EXTERNAL_DEPENDENCIES\n\u001b[0;32m    126\u001b[0m \u001b[38;5;28;01mif\u001b[39;00m \u001b[38;5;129;01mnot\u001b[39;00m LIBZBAR:\n\u001b[1;32m--> 127\u001b[0m     libzbar, dependencies \u001b[38;5;241m=\u001b[39m \u001b[43mzbar_library\u001b[49m\u001b[38;5;241;43m.\u001b[39;49m\u001b[43mload\u001b[49m\u001b[43m(\u001b[49m\u001b[43m)\u001b[49m\n\u001b[0;32m    128\u001b[0m     LIBZBAR \u001b[38;5;241m=\u001b[39m libzbar\n\u001b[0;32m    129\u001b[0m     EXTERNAL_DEPENDENCIES \u001b[38;5;241m=\u001b[39m [LIBZBAR] \u001b[38;5;241m+\u001b[39m dependencies\n",
      "File \u001b[1;32m~\\anaconda3\\envs\\env12\\lib\\site-packages\\pyzbar\\zbar_library.py:60\u001b[0m, in \u001b[0;36mload\u001b[1;34m()\u001b[0m\n\u001b[0;32m     58\u001b[0m         dependencies, libzbar \u001b[38;5;241m=\u001b[39m load_objects(Path(\u001b[38;5;124m'\u001b[39m\u001b[38;5;124m'\u001b[39m))\n\u001b[0;32m     59\u001b[0m     \u001b[38;5;28;01mexcept\u001b[39;00m \u001b[38;5;167;01mOSError\u001b[39;00m:\n\u001b[1;32m---> 60\u001b[0m         dependencies, libzbar \u001b[38;5;241m=\u001b[39m \u001b[43mload_objects\u001b[49m\u001b[43m(\u001b[49m\u001b[43mPath\u001b[49m\u001b[43m(\u001b[49m\u001b[38;5;18;43m__file__\u001b[39;49m\u001b[43m)\u001b[49m\u001b[38;5;241;43m.\u001b[39;49m\u001b[43mparent\u001b[49m\u001b[43m)\u001b[49m\n\u001b[0;32m     61\u001b[0m \u001b[38;5;28;01melse\u001b[39;00m:\n\u001b[0;32m     62\u001b[0m     \u001b[38;5;66;03m# Assume a shared library on the path\u001b[39;00m\n\u001b[0;32m     63\u001b[0m     path \u001b[38;5;241m=\u001b[39m find_library(\u001b[38;5;124m'\u001b[39m\u001b[38;5;124mzbar\u001b[39m\u001b[38;5;124m'\u001b[39m)\n",
      "File \u001b[1;32m~\\anaconda3\\envs\\env12\\lib\\site-packages\\pyzbar\\zbar_library.py:54\u001b[0m, in \u001b[0;36mload.<locals>.load_objects\u001b[1;34m(directory)\u001b[0m\n\u001b[0;32m     48\u001b[0m \u001b[38;5;28;01mdef\u001b[39;00m \u001b[38;5;21mload_objects\u001b[39m(directory):\n\u001b[0;32m     49\u001b[0m     \u001b[38;5;66;03m# Load dependencies before loading libzbar dll\u001b[39;00m\n\u001b[0;32m     50\u001b[0m     deps \u001b[38;5;241m=\u001b[39m [\n\u001b[0;32m     51\u001b[0m         cdll\u001b[38;5;241m.\u001b[39mLoadLibrary(\u001b[38;5;28mstr\u001b[39m(directory\u001b[38;5;241m.\u001b[39mjoinpath(dep)))\n\u001b[0;32m     52\u001b[0m         \u001b[38;5;28;01mfor\u001b[39;00m dep \u001b[38;5;129;01min\u001b[39;00m dependencies\n\u001b[0;32m     53\u001b[0m     ]\n\u001b[1;32m---> 54\u001b[0m     libzbar \u001b[38;5;241m=\u001b[39m \u001b[43mcdll\u001b[49m\u001b[38;5;241;43m.\u001b[39;49m\u001b[43mLoadLibrary\u001b[49m\u001b[43m(\u001b[49m\u001b[38;5;28;43mstr\u001b[39;49m\u001b[43m(\u001b[49m\u001b[43mdirectory\u001b[49m\u001b[38;5;241;43m.\u001b[39;49m\u001b[43mjoinpath\u001b[49m\u001b[43m(\u001b[49m\u001b[43mfname\u001b[49m\u001b[43m)\u001b[49m\u001b[43m)\u001b[49m\u001b[43m)\u001b[49m\n\u001b[0;32m     55\u001b[0m     \u001b[38;5;28;01mreturn\u001b[39;00m deps, libzbar\n",
      "File \u001b[1;32m~\\anaconda3\\envs\\env12\\lib\\ctypes\\__init__.py:452\u001b[0m, in \u001b[0;36mLibraryLoader.LoadLibrary\u001b[1;34m(self, name)\u001b[0m\n\u001b[0;32m    451\u001b[0m \u001b[38;5;28;01mdef\u001b[39;00m \u001b[38;5;21mLoadLibrary\u001b[39m(\u001b[38;5;28mself\u001b[39m, name):\n\u001b[1;32m--> 452\u001b[0m     \u001b[38;5;28;01mreturn\u001b[39;00m \u001b[38;5;28;43mself\u001b[39;49m\u001b[38;5;241;43m.\u001b[39;49m\u001b[43m_dlltype\u001b[49m\u001b[43m(\u001b[49m\u001b[43mname\u001b[49m\u001b[43m)\u001b[49m\n",
      "File \u001b[1;32m~\\anaconda3\\envs\\env12\\lib\\ctypes\\__init__.py:374\u001b[0m, in \u001b[0;36mCDLL.__init__\u001b[1;34m(self, name, mode, handle, use_errno, use_last_error, winmode)\u001b[0m\n\u001b[0;32m    371\u001b[0m \u001b[38;5;28mself\u001b[39m\u001b[38;5;241m.\u001b[39m_FuncPtr \u001b[38;5;241m=\u001b[39m _FuncPtr\n\u001b[0;32m    373\u001b[0m \u001b[38;5;28;01mif\u001b[39;00m handle \u001b[38;5;129;01mis\u001b[39;00m \u001b[38;5;28;01mNone\u001b[39;00m:\n\u001b[1;32m--> 374\u001b[0m     \u001b[38;5;28mself\u001b[39m\u001b[38;5;241m.\u001b[39m_handle \u001b[38;5;241m=\u001b[39m \u001b[43m_dlopen\u001b[49m\u001b[43m(\u001b[49m\u001b[38;5;28;43mself\u001b[39;49m\u001b[38;5;241;43m.\u001b[39;49m\u001b[43m_name\u001b[49m\u001b[43m,\u001b[49m\u001b[43m \u001b[49m\u001b[43mmode\u001b[49m\u001b[43m)\u001b[49m\n\u001b[0;32m    375\u001b[0m \u001b[38;5;28;01melse\u001b[39;00m:\n\u001b[0;32m    376\u001b[0m     \u001b[38;5;28mself\u001b[39m\u001b[38;5;241m.\u001b[39m_handle \u001b[38;5;241m=\u001b[39m handle\n",
      "\u001b[1;31mFileNotFoundError\u001b[0m: Could not find module 'C:\\Users\\aksha\\anaconda3\\envs\\env12\\lib\\site-packages\\pyzbar\\libzbar-64.dll' (or one of its dependencies). Try using the full path with constructor syntax."
     ]
    }
   ],
   "source": [
    "import cv2\n",
    "from pyzbar.pyzbar import decode\n"
   ]
  },
  {
   "cell_type": "code",
   "execution_count": 4,
   "id": "28f350b1",
   "metadata": {},
   "outputs": [],
   "source": [
    "import cv2"
   ]
  },
  {
   "cell_type": "code",
   "execution_count": 5,
   "id": "a8474562",
   "metadata": {},
   "outputs": [
    {
     "ename": "ModuleNotFoundError",
     "evalue": "No module named 'decode'",
     "output_type": "error",
     "traceback": [
      "\u001b[1;31m---------------------------------------------------------------------------\u001b[0m",
      "\u001b[1;31mModuleNotFoundError\u001b[0m                       Traceback (most recent call last)",
      "Cell \u001b[1;32mIn[5], line 1\u001b[0m\n\u001b[1;32m----> 1\u001b[0m \u001b[38;5;28;01mimport\u001b[39;00m \u001b[38;5;21;01mdecode\u001b[39;00m\n",
      "\u001b[1;31mModuleNotFoundError\u001b[0m: No module named 'decode'"
     ]
    }
   ],
   "source": [
    "import decode"
   ]
  },
  {
   "cell_type": "code",
   "execution_count": 6,
   "id": "9aaf5902",
   "metadata": {},
   "outputs": [
    {
     "ename": "FileNotFoundError",
     "evalue": "Could not find module 'C:\\Users\\aksha\\anaconda3\\envs\\env12\\lib\\site-packages\\pyzbar\\libzbar-64.dll' (or one of its dependencies). Try using the full path with constructor syntax.",
     "output_type": "error",
     "traceback": [
      "\u001b[1;31m---------------------------------------------------------------------------\u001b[0m",
      "\u001b[1;31mFileNotFoundError\u001b[0m                         Traceback (most recent call last)",
      "File \u001b[1;32m~\\anaconda3\\envs\\env12\\lib\\site-packages\\pyzbar\\zbar_library.py:58\u001b[0m, in \u001b[0;36mload\u001b[1;34m()\u001b[0m\n\u001b[0;32m     57\u001b[0m \u001b[38;5;28;01mtry\u001b[39;00m:\n\u001b[1;32m---> 58\u001b[0m     dependencies, libzbar \u001b[38;5;241m=\u001b[39m \u001b[43mload_objects\u001b[49m\u001b[43m(\u001b[49m\u001b[43mPath\u001b[49m\u001b[43m(\u001b[49m\u001b[38;5;124;43m'\u001b[39;49m\u001b[38;5;124;43m'\u001b[39;49m\u001b[43m)\u001b[49m\u001b[43m)\u001b[49m\n\u001b[0;32m     59\u001b[0m \u001b[38;5;28;01mexcept\u001b[39;00m \u001b[38;5;167;01mOSError\u001b[39;00m:\n",
      "File \u001b[1;32m~\\anaconda3\\envs\\env12\\lib\\site-packages\\pyzbar\\zbar_library.py:54\u001b[0m, in \u001b[0;36mload.<locals>.load_objects\u001b[1;34m(directory)\u001b[0m\n\u001b[0;32m     50\u001b[0m deps \u001b[38;5;241m=\u001b[39m [\n\u001b[0;32m     51\u001b[0m     cdll\u001b[38;5;241m.\u001b[39mLoadLibrary(\u001b[38;5;28mstr\u001b[39m(directory\u001b[38;5;241m.\u001b[39mjoinpath(dep)))\n\u001b[0;32m     52\u001b[0m     \u001b[38;5;28;01mfor\u001b[39;00m dep \u001b[38;5;129;01min\u001b[39;00m dependencies\n\u001b[0;32m     53\u001b[0m ]\n\u001b[1;32m---> 54\u001b[0m libzbar \u001b[38;5;241m=\u001b[39m \u001b[43mcdll\u001b[49m\u001b[38;5;241;43m.\u001b[39;49m\u001b[43mLoadLibrary\u001b[49m\u001b[43m(\u001b[49m\u001b[38;5;28;43mstr\u001b[39;49m\u001b[43m(\u001b[49m\u001b[43mdirectory\u001b[49m\u001b[38;5;241;43m.\u001b[39;49m\u001b[43mjoinpath\u001b[49m\u001b[43m(\u001b[49m\u001b[43mfname\u001b[49m\u001b[43m)\u001b[49m\u001b[43m)\u001b[49m\u001b[43m)\u001b[49m\n\u001b[0;32m     55\u001b[0m \u001b[38;5;28;01mreturn\u001b[39;00m deps, libzbar\n",
      "File \u001b[1;32m~\\anaconda3\\envs\\env12\\lib\\ctypes\\__init__.py:452\u001b[0m, in \u001b[0;36mLibraryLoader.LoadLibrary\u001b[1;34m(self, name)\u001b[0m\n\u001b[0;32m    451\u001b[0m \u001b[38;5;28;01mdef\u001b[39;00m \u001b[38;5;21mLoadLibrary\u001b[39m(\u001b[38;5;28mself\u001b[39m, name):\n\u001b[1;32m--> 452\u001b[0m     \u001b[38;5;28;01mreturn\u001b[39;00m \u001b[38;5;28;43mself\u001b[39;49m\u001b[38;5;241;43m.\u001b[39;49m\u001b[43m_dlltype\u001b[49m\u001b[43m(\u001b[49m\u001b[43mname\u001b[49m\u001b[43m)\u001b[49m\n",
      "File \u001b[1;32m~\\anaconda3\\envs\\env12\\lib\\ctypes\\__init__.py:374\u001b[0m, in \u001b[0;36mCDLL.__init__\u001b[1;34m(self, name, mode, handle, use_errno, use_last_error, winmode)\u001b[0m\n\u001b[0;32m    373\u001b[0m \u001b[38;5;28;01mif\u001b[39;00m handle \u001b[38;5;129;01mis\u001b[39;00m \u001b[38;5;28;01mNone\u001b[39;00m:\n\u001b[1;32m--> 374\u001b[0m     \u001b[38;5;28mself\u001b[39m\u001b[38;5;241m.\u001b[39m_handle \u001b[38;5;241m=\u001b[39m \u001b[43m_dlopen\u001b[49m\u001b[43m(\u001b[49m\u001b[38;5;28;43mself\u001b[39;49m\u001b[38;5;241;43m.\u001b[39;49m\u001b[43m_name\u001b[49m\u001b[43m,\u001b[49m\u001b[43m \u001b[49m\u001b[43mmode\u001b[49m\u001b[43m)\u001b[49m\n\u001b[0;32m    375\u001b[0m \u001b[38;5;28;01melse\u001b[39;00m:\n",
      "\u001b[1;31mFileNotFoundError\u001b[0m: Could not find module 'libzbar-64.dll' (or one of its dependencies). Try using the full path with constructor syntax.",
      "\nDuring handling of the above exception, another exception occurred:\n",
      "\u001b[1;31mFileNotFoundError\u001b[0m                         Traceback (most recent call last)",
      "Cell \u001b[1;32mIn[6], line 1\u001b[0m\n\u001b[1;32m----> 1\u001b[0m \u001b[38;5;28;01mimport\u001b[39;00m \u001b[38;5;21;01mpyzbar\u001b[39;00m\u001b[38;5;21;01m.\u001b[39;00m\u001b[38;5;21;01mpyzbar\u001b[39;00m\n",
      "File \u001b[1;32m~\\anaconda3\\envs\\env12\\lib\\site-packages\\pyzbar\\pyzbar.py:7\u001b[0m\n\u001b[0;32m      5\u001b[0m \u001b[38;5;28;01mfrom\u001b[39;00m \u001b[38;5;21;01m.\u001b[39;00m\u001b[38;5;21;01mlocations\u001b[39;00m \u001b[38;5;28;01mimport\u001b[39;00m bounding_box, convex_hull, Point, Rect\n\u001b[0;32m      6\u001b[0m \u001b[38;5;28;01mfrom\u001b[39;00m \u001b[38;5;21;01m.\u001b[39;00m\u001b[38;5;21;01mpyzbar_error\u001b[39;00m \u001b[38;5;28;01mimport\u001b[39;00m PyZbarError\n\u001b[1;32m----> 7\u001b[0m \u001b[38;5;28;01mfrom\u001b[39;00m \u001b[38;5;21;01m.\u001b[39;00m\u001b[38;5;21;01mwrapper\u001b[39;00m \u001b[38;5;28;01mimport\u001b[39;00m (\n\u001b[0;32m      8\u001b[0m     zbar_image_scanner_set_config,\n\u001b[0;32m      9\u001b[0m     zbar_image_scanner_create, zbar_image_scanner_destroy,\n\u001b[0;32m     10\u001b[0m     zbar_image_create, zbar_image_destroy, zbar_image_set_format,\n\u001b[0;32m     11\u001b[0m     zbar_image_set_size, zbar_image_set_data, zbar_scan_image,\n\u001b[0;32m     12\u001b[0m     zbar_image_first_symbol, zbar_symbol_get_data_length,\n\u001b[0;32m     13\u001b[0m     zbar_symbol_get_data, zbar_symbol_get_orientation,\n\u001b[0;32m     14\u001b[0m     zbar_symbol_get_loc_size, zbar_symbol_get_loc_x, zbar_symbol_get_loc_y,\n\u001b[0;32m     15\u001b[0m     zbar_symbol_get_quality, zbar_symbol_next, ZBarConfig, ZBarOrientation,\n\u001b[0;32m     16\u001b[0m     ZBarSymbol, EXTERNAL_DEPENDENCIES,\n\u001b[0;32m     17\u001b[0m )\n\u001b[0;32m     19\u001b[0m __all__ \u001b[38;5;241m=\u001b[39m [\n\u001b[0;32m     20\u001b[0m     \u001b[38;5;124m'\u001b[39m\u001b[38;5;124mdecode\u001b[39m\u001b[38;5;124m'\u001b[39m, \u001b[38;5;124m'\u001b[39m\u001b[38;5;124mPoint\u001b[39m\u001b[38;5;124m'\u001b[39m, \u001b[38;5;124m'\u001b[39m\u001b[38;5;124mRect\u001b[39m\u001b[38;5;124m'\u001b[39m, \u001b[38;5;124m'\u001b[39m\u001b[38;5;124mDecoded\u001b[39m\u001b[38;5;124m'\u001b[39m, \u001b[38;5;124m'\u001b[39m\u001b[38;5;124mZBarSymbol\u001b[39m\u001b[38;5;124m'\u001b[39m, \u001b[38;5;124m'\u001b[39m\u001b[38;5;124mEXTERNAL_DEPENDENCIES\u001b[39m\u001b[38;5;124m'\u001b[39m, \u001b[38;5;124m'\u001b[39m\u001b[38;5;124mORIENTATION_AVAILABLE\u001b[39m\u001b[38;5;124m'\u001b[39m\n\u001b[0;32m     21\u001b[0m ]\n\u001b[0;32m     24\u001b[0m ORIENTATION_AVAILABLE \u001b[38;5;241m=\u001b[39m zbar_symbol_get_orientation \u001b[38;5;129;01mis\u001b[39;00m \u001b[38;5;129;01mnot\u001b[39;00m \u001b[38;5;28;01mNone\u001b[39;00m\n",
      "File \u001b[1;32m~\\anaconda3\\envs\\env12\\lib\\site-packages\\pyzbar\\wrapper.py:151\u001b[0m\n\u001b[0;32m    147\u001b[0m     prototype \u001b[38;5;241m=\u001b[39m CFUNCTYPE(restype, \u001b[38;5;241m*\u001b[39margs)\n\u001b[0;32m    148\u001b[0m     \u001b[38;5;28;01mreturn\u001b[39;00m prototype((fname, load_libzbar()))\n\u001b[1;32m--> 151\u001b[0m zbar_version \u001b[38;5;241m=\u001b[39m \u001b[43mzbar_function\u001b[49m\u001b[43m(\u001b[49m\n\u001b[0;32m    152\u001b[0m \u001b[43m    \u001b[49m\u001b[38;5;124;43m'\u001b[39;49m\u001b[38;5;124;43mzbar_version\u001b[39;49m\u001b[38;5;124;43m'\u001b[39;49m\u001b[43m,\u001b[49m\n\u001b[0;32m    153\u001b[0m \u001b[43m    \u001b[49m\u001b[43mc_int\u001b[49m\u001b[43m,\u001b[49m\n\u001b[0;32m    154\u001b[0m \u001b[43m    \u001b[49m\u001b[43mc_uint_p\u001b[49m\u001b[43m,\u001b[49m\u001b[43m    \u001b[49m\u001b[38;5;66;43;03m# major,\u001b[39;49;00m\n\u001b[0;32m    155\u001b[0m \u001b[43m    \u001b[49m\u001b[43mc_uint_p\u001b[49m\u001b[43m,\u001b[49m\u001b[43m    \u001b[49m\u001b[38;5;66;43;03m# minor\u001b[39;49;00m\n\u001b[0;32m    156\u001b[0m \u001b[43m)\u001b[49m\n\u001b[0;32m    158\u001b[0m zbar_set_verbosity \u001b[38;5;241m=\u001b[39m zbar_function(\n\u001b[0;32m    159\u001b[0m     \u001b[38;5;124m'\u001b[39m\u001b[38;5;124mzbar_set_verbosity\u001b[39m\u001b[38;5;124m'\u001b[39m,\n\u001b[0;32m    160\u001b[0m     \u001b[38;5;28;01mNone\u001b[39;00m,\n\u001b[0;32m    161\u001b[0m     c_int\n\u001b[0;32m    162\u001b[0m )\n\u001b[0;32m    164\u001b[0m zbar_image_scanner_create \u001b[38;5;241m=\u001b[39m zbar_function(\n\u001b[0;32m    165\u001b[0m     \u001b[38;5;124m'\u001b[39m\u001b[38;5;124mzbar_image_scanner_create\u001b[39m\u001b[38;5;124m'\u001b[39m,\n\u001b[0;32m    166\u001b[0m     POINTER(zbar_image_scanner)\n\u001b[0;32m    167\u001b[0m )\n",
      "File \u001b[1;32m~\\anaconda3\\envs\\env12\\lib\\site-packages\\pyzbar\\wrapper.py:148\u001b[0m, in \u001b[0;36mzbar_function\u001b[1;34m(fname, restype, *args)\u001b[0m\n\u001b[0;32m    136\u001b[0m \u001b[38;5;250m\u001b[39m\u001b[38;5;124;03m\"\"\"Returns a foreign function exported by `zbar`.\u001b[39;00m\n\u001b[0;32m    137\u001b[0m \n\u001b[0;32m    138\u001b[0m \u001b[38;5;124;03mArgs:\u001b[39;00m\n\u001b[1;32m   (...)\u001b[0m\n\u001b[0;32m    145\u001b[0m \u001b[38;5;124;03m    cddl.CFunctionType: A wrapper around the function.\u001b[39;00m\n\u001b[0;32m    146\u001b[0m \u001b[38;5;124;03m\"\"\"\u001b[39;00m\n\u001b[0;32m    147\u001b[0m prototype \u001b[38;5;241m=\u001b[39m CFUNCTYPE(restype, \u001b[38;5;241m*\u001b[39margs)\n\u001b[1;32m--> 148\u001b[0m \u001b[38;5;28;01mreturn\u001b[39;00m prototype((fname, \u001b[43mload_libzbar\u001b[49m\u001b[43m(\u001b[49m\u001b[43m)\u001b[49m))\n",
      "File \u001b[1;32m~\\anaconda3\\envs\\env12\\lib\\site-packages\\pyzbar\\wrapper.py:127\u001b[0m, in \u001b[0;36mload_libzbar\u001b[1;34m()\u001b[0m\n\u001b[0;32m    125\u001b[0m \u001b[38;5;28;01mglobal\u001b[39;00m EXTERNAL_DEPENDENCIES\n\u001b[0;32m    126\u001b[0m \u001b[38;5;28;01mif\u001b[39;00m \u001b[38;5;129;01mnot\u001b[39;00m LIBZBAR:\n\u001b[1;32m--> 127\u001b[0m     libzbar, dependencies \u001b[38;5;241m=\u001b[39m \u001b[43mzbar_library\u001b[49m\u001b[38;5;241;43m.\u001b[39;49m\u001b[43mload\u001b[49m\u001b[43m(\u001b[49m\u001b[43m)\u001b[49m\n\u001b[0;32m    128\u001b[0m     LIBZBAR \u001b[38;5;241m=\u001b[39m libzbar\n\u001b[0;32m    129\u001b[0m     EXTERNAL_DEPENDENCIES \u001b[38;5;241m=\u001b[39m [LIBZBAR] \u001b[38;5;241m+\u001b[39m dependencies\n",
      "File \u001b[1;32m~\\anaconda3\\envs\\env12\\lib\\site-packages\\pyzbar\\zbar_library.py:60\u001b[0m, in \u001b[0;36mload\u001b[1;34m()\u001b[0m\n\u001b[0;32m     58\u001b[0m         dependencies, libzbar \u001b[38;5;241m=\u001b[39m load_objects(Path(\u001b[38;5;124m'\u001b[39m\u001b[38;5;124m'\u001b[39m))\n\u001b[0;32m     59\u001b[0m     \u001b[38;5;28;01mexcept\u001b[39;00m \u001b[38;5;167;01mOSError\u001b[39;00m:\n\u001b[1;32m---> 60\u001b[0m         dependencies, libzbar \u001b[38;5;241m=\u001b[39m \u001b[43mload_objects\u001b[49m\u001b[43m(\u001b[49m\u001b[43mPath\u001b[49m\u001b[43m(\u001b[49m\u001b[38;5;18;43m__file__\u001b[39;49m\u001b[43m)\u001b[49m\u001b[38;5;241;43m.\u001b[39;49m\u001b[43mparent\u001b[49m\u001b[43m)\u001b[49m\n\u001b[0;32m     61\u001b[0m \u001b[38;5;28;01melse\u001b[39;00m:\n\u001b[0;32m     62\u001b[0m     \u001b[38;5;66;03m# Assume a shared library on the path\u001b[39;00m\n\u001b[0;32m     63\u001b[0m     path \u001b[38;5;241m=\u001b[39m find_library(\u001b[38;5;124m'\u001b[39m\u001b[38;5;124mzbar\u001b[39m\u001b[38;5;124m'\u001b[39m)\n",
      "File \u001b[1;32m~\\anaconda3\\envs\\env12\\lib\\site-packages\\pyzbar\\zbar_library.py:54\u001b[0m, in \u001b[0;36mload.<locals>.load_objects\u001b[1;34m(directory)\u001b[0m\n\u001b[0;32m     48\u001b[0m \u001b[38;5;28;01mdef\u001b[39;00m \u001b[38;5;21mload_objects\u001b[39m(directory):\n\u001b[0;32m     49\u001b[0m     \u001b[38;5;66;03m# Load dependencies before loading libzbar dll\u001b[39;00m\n\u001b[0;32m     50\u001b[0m     deps \u001b[38;5;241m=\u001b[39m [\n\u001b[0;32m     51\u001b[0m         cdll\u001b[38;5;241m.\u001b[39mLoadLibrary(\u001b[38;5;28mstr\u001b[39m(directory\u001b[38;5;241m.\u001b[39mjoinpath(dep)))\n\u001b[0;32m     52\u001b[0m         \u001b[38;5;28;01mfor\u001b[39;00m dep \u001b[38;5;129;01min\u001b[39;00m dependencies\n\u001b[0;32m     53\u001b[0m     ]\n\u001b[1;32m---> 54\u001b[0m     libzbar \u001b[38;5;241m=\u001b[39m \u001b[43mcdll\u001b[49m\u001b[38;5;241;43m.\u001b[39;49m\u001b[43mLoadLibrary\u001b[49m\u001b[43m(\u001b[49m\u001b[38;5;28;43mstr\u001b[39;49m\u001b[43m(\u001b[49m\u001b[43mdirectory\u001b[49m\u001b[38;5;241;43m.\u001b[39;49m\u001b[43mjoinpath\u001b[49m\u001b[43m(\u001b[49m\u001b[43mfname\u001b[49m\u001b[43m)\u001b[49m\u001b[43m)\u001b[49m\u001b[43m)\u001b[49m\n\u001b[0;32m     55\u001b[0m     \u001b[38;5;28;01mreturn\u001b[39;00m deps, libzbar\n",
      "File \u001b[1;32m~\\anaconda3\\envs\\env12\\lib\\ctypes\\__init__.py:452\u001b[0m, in \u001b[0;36mLibraryLoader.LoadLibrary\u001b[1;34m(self, name)\u001b[0m\n\u001b[0;32m    451\u001b[0m \u001b[38;5;28;01mdef\u001b[39;00m \u001b[38;5;21mLoadLibrary\u001b[39m(\u001b[38;5;28mself\u001b[39m, name):\n\u001b[1;32m--> 452\u001b[0m     \u001b[38;5;28;01mreturn\u001b[39;00m \u001b[38;5;28;43mself\u001b[39;49m\u001b[38;5;241;43m.\u001b[39;49m\u001b[43m_dlltype\u001b[49m\u001b[43m(\u001b[49m\u001b[43mname\u001b[49m\u001b[43m)\u001b[49m\n",
      "File \u001b[1;32m~\\anaconda3\\envs\\env12\\lib\\ctypes\\__init__.py:374\u001b[0m, in \u001b[0;36mCDLL.__init__\u001b[1;34m(self, name, mode, handle, use_errno, use_last_error, winmode)\u001b[0m\n\u001b[0;32m    371\u001b[0m \u001b[38;5;28mself\u001b[39m\u001b[38;5;241m.\u001b[39m_FuncPtr \u001b[38;5;241m=\u001b[39m _FuncPtr\n\u001b[0;32m    373\u001b[0m \u001b[38;5;28;01mif\u001b[39;00m handle \u001b[38;5;129;01mis\u001b[39;00m \u001b[38;5;28;01mNone\u001b[39;00m:\n\u001b[1;32m--> 374\u001b[0m     \u001b[38;5;28mself\u001b[39m\u001b[38;5;241m.\u001b[39m_handle \u001b[38;5;241m=\u001b[39m \u001b[43m_dlopen\u001b[49m\u001b[43m(\u001b[49m\u001b[38;5;28;43mself\u001b[39;49m\u001b[38;5;241;43m.\u001b[39;49m\u001b[43m_name\u001b[49m\u001b[43m,\u001b[49m\u001b[43m \u001b[49m\u001b[43mmode\u001b[49m\u001b[43m)\u001b[49m\n\u001b[0;32m    375\u001b[0m \u001b[38;5;28;01melse\u001b[39;00m:\n\u001b[0;32m    376\u001b[0m     \u001b[38;5;28mself\u001b[39m\u001b[38;5;241m.\u001b[39m_handle \u001b[38;5;241m=\u001b[39m handle\n",
      "\u001b[1;31mFileNotFoundError\u001b[0m: Could not find module 'C:\\Users\\aksha\\anaconda3\\envs\\env12\\lib\\site-packages\\pyzbar\\libzbar-64.dll' (or one of its dependencies). Try using the full path with constructor syntax."
     ]
    }
   ],
   "source": [
    "import pyzbar.pyzbar"
   ]
  },
  {
   "cell_type": "code",
   "execution_count": 7,
   "id": "f3f96b4e",
   "metadata": {},
   "outputs": [
    {
     "name": "stdout",
     "output_type": "stream",
     "text": [
      "Note: you may need to restart the kernel to use updated packages.\n"
     ]
    },
    {
     "name": "stderr",
     "output_type": "stream",
     "text": [
      "ERROR: Could not find a version that satisfies the requirement libzbar (from versions: none)\n",
      "ERROR: No matching distribution found for libzbar\n"
     ]
    }
   ],
   "source": [
    "pip install libzbar"
   ]
  },
  {
   "cell_type": "code",
   "execution_count": 1,
   "id": "a6fd1e27",
   "metadata": {},
   "outputs": [
    {
     "name": "stdout",
     "output_type": "stream",
     "text": [
      "Note: you may need to restart the kernel to use updated packages.\n"
     ]
    },
    {
     "name": "stderr",
     "output_type": "stream",
     "text": [
      "ERROR: Could not find a version that satisfies the requirement libzbar (from versions: none)\n",
      "ERROR: No matching distribution found for libzbar\n"
     ]
    }
   ],
   "source": [
    "pip install libzbar"
   ]
  },
  {
   "cell_type": "code",
   "execution_count": null,
   "id": "37c26987",
   "metadata": {},
   "outputs": [],
   "source": []
  }
 ],
 "metadata": {
  "kernelspec": {
   "display_name": "Python 3 (ipykernel)",
   "language": "python",
   "name": "python3"
  },
  "language_info": {
   "codemirror_mode": {
    "name": "ipython",
    "version": 3
   },
   "file_extension": ".py",
   "mimetype": "text/x-python",
   "name": "python",
   "nbconvert_exporter": "python",
   "pygments_lexer": "ipython3",
   "version": "3.9.16"
  }
 },
 "nbformat": 4,
 "nbformat_minor": 5
}
